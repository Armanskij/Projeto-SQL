{
  "nbformat": 4,
  "nbformat_minor": 0,
  "metadata": {
    "colab": {
      "provenance": [],
      "collapsed_sections": [
        "69l7eq4FDcj7"
      ],
      "authorship_tag": "ABX9TyO4inMq1Z9masljpjiZ01Q4",
      "include_colab_link": true
    },
    "kernelspec": {
      "name": "python3",
      "display_name": "Python 3"
    },
    "language_info": {
      "name": "python"
    }
  },
  "cells": [
    {
      "cell_type": "markdown",
      "metadata": {
        "id": "view-in-github",
        "colab_type": "text"
      },
      "source": [
        "<a href=\"https://colab.research.google.com/github/Armanskij/Projeto-SQL/blob/main/Projeto_SQL.ipynb\" target=\"_parent\"><img src=\"https://colab.research.google.com/assets/colab-badge.svg\" alt=\"Open In Colab\"/></a>"
      ]
    },
    {
      "cell_type": "markdown",
      "metadata": {
        "id": "KJqp9AANOCtf"
      },
      "source": [
        "<img src=\"https://raw.githubusercontent.com/andre-marcos-perez/ebac-course-utils/main/media/logo/newebac_logo_black_half.png\" alt=\"ebac-logo\">\n",
        "\n",
        "---\n",
        "\n",
        "# **Módulo** | SQL: Projeto\n",
        "**Projeto**<br>\n",
        "Professora [Mariane Neiva](https://www.linkedin.com/in/mariane-neiva/)\n",
        "<br>\n",
        "Tutora [Juliana Otsuka](https://www.linkedin.com/in/juliana-otsuka/)\n",
        "<br>\n",
        "Elaborado por [Douglas Rizzi](https://www.linkedin.com/in/douglas-rizzi/)\n",
        "\n",
        "\n",
        "---"
      ]
    },
    {
      "cell_type": "markdown",
      "source": [
        "# Introdução\n"
      ],
      "metadata": {
        "id": "BRKMe94DAmH8"
      }
    },
    {
      "cell_type": "markdown",
      "source": [
        "Este projeto tem como objetivo demonstrar a aplicação da linguagem [SQL](https://aws.amazon.com/pt/what-is/sql/) na análise de dados. Através deste estudo, buscamos utilizar essa poderosa linguagem para consultar um banco de dados, realizar análises rápidas e extrair insights valiosos.\n",
        "\n",
        "O SQL é uma ferramenta essencial para qualquer analista de dados, oferecendo diversas interfaces de consulta, tanto em ambientes locais quanto na nuvem. Neste projeto, foi disponibilizado um arquivo CSV contendo dados de clientes de uma empresa de cartão de crédito. Com base nesses dados, exploraremos como realizar consultas eficientes em SQL e como integrar essas consultas com ferramentas de visualização de dados.\n",
        "\n",
        "Ao longo do projeto, destacaremos a utilidade do SQL em diferentes contextos, desde a execução de consultas simples até a criação de tabelas complexas com dados agregados. Nossa intenção é demonstrar como o SQL pode ser utilizado para transformar dados brutos em informações acionáveis.\n",
        "\n",
        "Além disso, uma vez que os dados forem tratados e analisados, utilizaremos ferramentas de visualização em Python, como Matplotlib e Seaborn, para apresentar os resultados de forma clara e intuitiva. Essas visualizações são fundamentais para interpretar e comunicar os resultados das análises de maneira eficaz.\n",
        "\n",
        "Em resumo, este projeto visa não apenas mostrar a versatilidade e eficiência do SQL na análise de dados, mas também a importância da integração com ferramentas de visualização para proporcionar uma compreensão mais profunda e visual dos dados analisados. Com isso, esperamos fornecer uma visão abrangente do processo de análise de dados, desde a consulta inicial até a apresentação final dos resultados."
      ],
      "metadata": {
        "id": "F_BS3rvx9P-5"
      }
    },
    {
      "cell_type": "markdown",
      "source": [
        "# Coleta dos dados"
      ],
      "metadata": {
        "id": "bc6FlJa2AuAC"
      }
    },
    {
      "cell_type": "markdown",
      "source": [
        "A origem dos dados deste projeto é um arquivo do tipo CSV, disponibilizado no curso de analista de dados da EBAC. Nele, utilizamos ferramentas de *Cloud* para armazenar, carregar e analisar dados, como por exemplo o AWS S3 (para armazenamento de arquivos) e o AWS Athena (interface onde realizamos *queries*), ambos serviços da Amazon. Esses serviços proporcionam um ótimo ambiente de trabalho, pois, em um só lugar, podemos encontrar diversos produtos para solucionar tanto demandas da área de dados quanto de TI em geral, sendo eles altamente seguros e escalonáveis.\n",
        "\n",
        "Carreguei o arquivo do projeto em um *bucket* do S3 e configurei o acesso para que se tornasse público (seguindo as diretrizes da [LGPD](https://www.planalto.gov.br/ccivil_03/_ato2015-2018/2018/lei/l13709.htm). Dessa forma, ele pode ser carregado via *notebook* Python para esta análise."
      ],
      "metadata": {
        "id": "S5G8H1yPCc1M"
      }
    },
    {
      "cell_type": "code",
      "source": [
        "!pip install boto3"
      ],
      "metadata": {
        "colab": {
          "base_uri": "https://localhost:8080/"
        },
        "id": "Bedidso72fI6",
        "outputId": "e1e4cf02-57d3-42cd-bdd8-8fdccef472af"
      },
      "execution_count": null,
      "outputs": [
        {
          "output_type": "stream",
          "name": "stdout",
          "text": [
            "Requirement already satisfied: boto3 in /usr/local/lib/python3.10/dist-packages (1.34.140)\n",
            "Requirement already satisfied: botocore<1.35.0,>=1.34.140 in /usr/local/lib/python3.10/dist-packages (from boto3) (1.34.140)\n",
            "Requirement already satisfied: jmespath<2.0.0,>=0.7.1 in /usr/local/lib/python3.10/dist-packages (from boto3) (1.0.1)\n",
            "Requirement already satisfied: s3transfer<0.11.0,>=0.10.0 in /usr/local/lib/python3.10/dist-packages (from boto3) (0.10.2)\n",
            "Requirement already satisfied: python-dateutil<3.0.0,>=2.1 in /usr/local/lib/python3.10/dist-packages (from botocore<1.35.0,>=1.34.140->boto3) (2.8.2)\n",
            "Requirement already satisfied: urllib3!=2.2.0,<3,>=1.25.4 in /usr/local/lib/python3.10/dist-packages (from botocore<1.35.0,>=1.34.140->boto3) (2.0.7)\n",
            "Requirement already satisfied: six>=1.5 in /usr/local/lib/python3.10/dist-packages (from python-dateutil<3.0.0,>=2.1->botocore<1.35.0,>=1.34.140->boto3) (1.16.0)\n"
          ]
        }
      ]
    },
    {
      "cell_type": "code",
      "execution_count": 1,
      "metadata": {
        "id": "-ckxQXL608U-",
        "colab": {
          "base_uri": "https://localhost:8080/",
          "height": 394
        },
        "outputId": "64bf2f99-383b-44c2-a811-907c94b3e542"
      },
      "outputs": [
        {
          "output_type": "error",
          "ename": "ModuleNotFoundError",
          "evalue": "No module named 'boto3'",
          "traceback": [
            "\u001b[0;31m---------------------------------------------------------------------------\u001b[0m",
            "\u001b[0;31mModuleNotFoundError\u001b[0m                       Traceback (most recent call last)",
            "\u001b[0;32m<ipython-input-1-b8159d41769b>\u001b[0m in \u001b[0;36m<cell line: 5>\u001b[0;34m()\u001b[0m\n\u001b[1;32m      3\u001b[0m \u001b[0;32mfrom\u001b[0m \u001b[0mio\u001b[0m \u001b[0;32mimport\u001b[0m \u001b[0mStringIO\u001b[0m\u001b[0;34m\u001b[0m\u001b[0;34m\u001b[0m\u001b[0m\n\u001b[1;32m      4\u001b[0m \u001b[0;34m\u001b[0m\u001b[0m\n\u001b[0;32m----> 5\u001b[0;31m \u001b[0;32mimport\u001b[0m \u001b[0mboto3\u001b[0m\u001b[0;34m\u001b[0m\u001b[0;34m\u001b[0m\u001b[0m\n\u001b[0m\u001b[1;32m      6\u001b[0m \u001b[0;32mimport\u001b[0m \u001b[0mmatplotlib\u001b[0m\u001b[0;34m.\u001b[0m\u001b[0mpyplot\u001b[0m \u001b[0;32mas\u001b[0m \u001b[0mplt\u001b[0m\u001b[0;34m\u001b[0m\u001b[0;34m\u001b[0m\u001b[0m\n\u001b[1;32m      7\u001b[0m \u001b[0;32mimport\u001b[0m \u001b[0mpandas\u001b[0m \u001b[0;32mas\u001b[0m \u001b[0mpd\u001b[0m\u001b[0;34m\u001b[0m\u001b[0;34m\u001b[0m\u001b[0m\n",
            "\u001b[0;31mModuleNotFoundError\u001b[0m: No module named 'boto3'",
            "",
            "\u001b[0;31m---------------------------------------------------------------------------\u001b[0;32m\nNOTE: If your import is failing due to a missing package, you can\nmanually install dependencies using either !pip or !apt.\n\nTo view examples of installing some common dependencies, click the\n\"Open Examples\" button below.\n\u001b[0;31m---------------------------------------------------------------------------\u001b[0m\n"
          ],
          "errorDetails": {
            "actions": [
              {
                "action": "open_url",
                "actionText": "Open Examples",
                "url": "/notebooks/snippets/importing_libraries.ipynb"
              }
            ]
          }
        }
      ],
      "source": [
        "import json\n",
        "import sqlite3\n",
        "from io import StringIO\n",
        "\n",
        "import boto3\n",
        "import matplotlib.pyplot as plt\n",
        "import pandas as pd\n",
        "import requests\n",
        "import seaborn as sns\n",
        "from botocore import UNSIGNED\n",
        "from botocore.client import Config\n",
        "from IPython.display import Image, display\n",
        "from matplotlib.patches import Patch\n",
        "from tabulate import tabulate"
      ]
    },
    {
      "cell_type": "markdown",
      "source": [
        "Com o arquivo já alocado e configurado na nuvem, podemos carregá-lo e iniciar as consultas.\n",
        "\n",
        "É importante destacar que, geralmente, as consultas SQL são realizadas em ambientes específicos, como MySQL, SQLite, Oracle, ou PostgreSQL. No contexto da AWS, o serviço [Athena](https://aws.amazon.com/pt/athena/) permite realizar consultas diretamente em arquivos armazenados no S3, proporcionando uma solução eficiente para a análise de dados.\n",
        "\n",
        "No entanto, para este projeto, optei por emular um banco de dados e um console virtual. Utilizando as bibliotecas [Boto3](https://boto3.amazonaws.com/v1/documentation/api/latest/index.html) e [sqlite3](https://docs.python.org/3/library/sqlite3.html), consegui carregar o arquivo CSV e criar um banco de dados local, permitindo a execução de consultas diretamente no notebook Jupyter. Essa abordagem foi escolhida para evitar a necessidade de múltiplas capturas de tela para documentar as etapas realizadas no Athena, tornando o processo mais interativo e fluido."
      ],
      "metadata": {
        "id": "8-qhbsbBHsU4"
      }
    },
    {
      "cell_type": "code",
      "source": [
        "url = \"https://raw.githubusercontent.com/Armanskij/Projeto-SQL/172bef10eee3905616acac91dc1aabecf7747231/bucket-origem.png\"\n",
        "response = requests.get(url)\n",
        "\n",
        "if response.status_code == 200:\n",
        "    display(Image(response.content))\n",
        "else:\n",
        "    print(f\"Erro ao baixar a imagem: {response.status_code}\")"
      ],
      "metadata": {
        "colab": {
          "base_uri": "https://localhost:8080/",
          "height": 586
        },
        "id": "w_414tsjGVEY",
        "outputId": "24ce0f5a-51a4-4476-a388-3dcb7f194176"
      },
      "execution_count": null,
      "outputs": [
        {
          "output_type": "display_data",
          "data": {
            "image/png": "[encoded data removed]",
            "text/plain": [
              "<IPython.core.display.Image object>"
            ]
          },
          "metadata": {}
        }
      ]
    },
    {
      "cell_type": "code",
      "source": [
        "# configurando o boto3 para acessar o Amazon S3\n",
        "s3 = boto3.resource('s3', config=Config(signature_version=UNSIGNED))"
      ],
      "metadata": {
        "id": "2uAx9LLw2qec"
      },
      "execution_count": null,
      "outputs": []
    },
    {
      "cell_type": "code",
      "source": [
        "# definindo os parâmetros para encontrar o arquivo\n",
        "s3_client = boto3.client('s3')\n",
        "bucket_name = 'bucket-armanskij-projetosql'\n",
        "file_key = 'credito.csv'\n",
        "object_ulr = 'https://bucket-armanskij-projetosql.s3.sa-east-1.amazonaws.com/credito.csv'"
      ],
      "metadata": {
        "id": "oyDmm6cE2LPK"
      },
      "execution_count": null,
      "outputs": []
    },
    {
      "cell_type": "code",
      "source": [
        "# usando requests para baixar o arquivo\n",
        "response = requests.get(object_ulr)\n",
        "\n",
        "if response.status_code == 200:\n",
        "  with open (file_key, 'wb') as f:\n",
        "    f.write(response.content)\n",
        "  print ('Arquivo carregado com sucesso.')\n",
        "else:\n",
        "  print('Falha ao carregar arquivo!')"
      ],
      "metadata": {
        "id": "UZhxrf5G3LUI",
        "colab": {
          "base_uri": "https://localhost:8080/"
        },
        "outputId": "ac4d58d7-8a1a-45f7-c0aa-3bec3612951a"
      },
      "execution_count": null,
      "outputs": [
        {
          "output_type": "stream",
          "name": "stdout",
          "text": [
            "Arquivo carregado com sucesso.\n"
          ]
        }
      ]
    },
    {
      "cell_type": "markdown",
      "source": [
        "Agora com o arquivo carregado, iremos alocar ele em nosso banco de dados e configuraremos as colunas, em seguida criaremos uma função que irá navegar pelo banco de dados e realizar as consultas na liguagem SQL."
      ],
      "metadata": {
        "id": "wnONy0FiMHXW"
      }
    },
    {
      "cell_type": "code",
      "source": [
        "# criando o arquivo de banco de dados\n",
        "banco = sqlite3.connect('teste1.db')"
      ],
      "metadata": {
        "id": "i6m3zddFt_kP"
      },
      "execution_count": null,
      "outputs": []
    },
    {
      "cell_type": "code",
      "source": [
        "# definindo nomes para as colunas\n",
        "colunas = [\n",
        "    'idade', 'sexo', 'dependentes', 'escolaridade', 'estado_civil',\n",
        "    'salario_anual', 'tipo_cartao', 'qtd_produtos', 'iteracoes_12m',\n",
        "    'meses_inativo_12m', 'limite_credito', 'valor_transacoes_12m',\n",
        "    'qtd_transacoes_12m']"
      ],
      "metadata": {
        "id": "drk_iHjswivE"
      },
      "execution_count": null,
      "outputs": []
    },
    {
      "cell_type": "code",
      "source": [
        "# usando o sqlite3 para navegar dentro do bando de dados\n",
        "cursor = banco.cursor()"
      ],
      "metadata": {
        "id": "6fl0mqMXuFYT"
      },
      "execution_count": null,
      "outputs": []
    },
    {
      "cell_type": "code",
      "source": [
        "# criando a tabela dentro do banco de dados\n",
        "create_table_query = \"\"\"\n",
        "CREATE TABLE IF NOT EXISTS credito (\n",
        "  idade INTEGER,\n",
        "  sexo TEXT,\n",
        "  dependentes INTEGER,\n",
        "  escolaridade TEXT,\n",
        "  estado_civil TEXT,\n",
        "  salario_anual TEXT,\n",
        "  tipo_cartao TEXT,\n",
        "  qtd_produtos INTEGER,\n",
        "  iteracoes_12m INTEGER,\n",
        "  meses_inativo_12m INTEGER,\n",
        "  limite_credito REAL,\n",
        "  valor_transacoes_12m REAL,\n",
        "  qtd_transacoes_12m INTEGER\n",
        ")\n",
        "\"\"\"\n",
        "cursor.execute(create_table_query)\n",
        "banco.commit()"
      ],
      "metadata": {
        "id": "Mt5XjE_yuKfG"
      },
      "execution_count": null,
      "outputs": []
    },
    {
      "cell_type": "code",
      "source": [
        "# alinhando as colunas com os dados\n",
        "df = pd.read_csv('credito.csv', header=None, names=colunas)\n",
        "df.to_sql('credito', banco, if_exists='append', index=False)"
      ],
      "metadata": {
        "id": "ROqQ1y9cv613",
        "colab": {
          "base_uri": "https://localhost:8080/"
        },
        "outputId": "2ce1db1b-8a66-4307-ed8f-9f5184c933d0"
      },
      "execution_count": null,
      "outputs": [
        {
          "output_type": "execute_result",
          "data": {
            "text/plain": [
              "2564"
            ]
          },
          "metadata": {},
          "execution_count": 64
        }
      ]
    },
    {
      "cell_type": "code",
      "source": [
        "# definindo uma função do sqlite3 que execute as consultas\n",
        "def execute_query(query):\n",
        "    cursor = banco.cursor()\n",
        "    cursor.execute(query)\n",
        "    columns = [description[0] for description in cursor.description]\n",
        "    rows = cursor.fetchall()\n",
        "    print(tabulate(rows, headers=columns, tablefmt='pipe'))\n",
        "    cursor.close()"
      ],
      "metadata": {
        "id": "w6b-RHXMxMF1"
      },
      "execution_count": null,
      "outputs": []
    },
    {
      "cell_type": "markdown",
      "source": [
        "## Limpeza dos dados\n"
      ],
      "metadata": {
        "id": "UB9Pi8dZBJlN"
      }
    },
    {
      "cell_type": "markdown",
      "source": [
        "De modo geral os dados se encontram bem claros e sem valores vazios, provavelmente decorrentes de uma limpeza prévia. Porém vamos vizualiar suas informções quanto a tipo e valores:"
      ],
      "metadata": {
        "id": "xEmqKYrENPjH"
      }
    },
    {
      "cell_type": "code",
      "source": [
        "# visualizando o schema dos dados por SQL\n",
        "query = \"PRAGMA table_info(credito)\"\n",
        "cursor.execute(query)\n",
        "execute_query(query)"
      ],
      "metadata": {
        "id": "vYlfb_UBFYwP",
        "colab": {
          "base_uri": "https://localhost:8080/"
        },
        "outputId": "6b2ea348-a50d-438f-9e76-96a6447973a2"
      },
      "execution_count": null,
      "outputs": [
        {
          "output_type": "stream",
          "name": "stdout",
          "text": [
            "|   cid | name                 | type    |   notnull | dflt_value   |   pk |\n",
            "|------:|:---------------------|:--------|----------:|:-------------|-----:|\n",
            "|     0 | idade                | INTEGER |         0 |              |    0 |\n",
            "|     1 | sexo                 | TEXT    |         0 |              |    0 |\n",
            "|     2 | dependentes          | INTEGER |         0 |              |    0 |\n",
            "|     3 | escolaridade         | TEXT    |         0 |              |    0 |\n",
            "|     4 | estado_civil         | TEXT    |         0 |              |    0 |\n",
            "|     5 | salario_anual        | TEXT    |         0 |              |    0 |\n",
            "|     6 | tipo_cartao          | TEXT    |         0 |              |    0 |\n",
            "|     7 | qtd_produtos         | INTEGER |         0 |              |    0 |\n",
            "|     8 | iteracoes_12m        | INTEGER |         0 |              |    0 |\n",
            "|     9 | meses_inativo_12m    | INTEGER |         0 |              |    0 |\n",
            "|    10 | limite_credito       | REAL    |         0 |              |    0 |\n",
            "|    11 | valor_transacoes_12m | REAL    |         0 |              |    0 |\n",
            "|    12 | qtd_transacoes_12m   | INTEGER |         0 |              |    0 |\n"
          ]
        }
      ]
    },
    {
      "cell_type": "code",
      "source": [
        "select_query = \"SELECT * FROM credito limit 20\"\n",
        "execute_query(select_query)"
      ],
      "metadata": {
        "id": "2PHQOfBnfXxw",
        "colab": {
          "base_uri": "https://localhost:8080/"
        },
        "outputId": "795c7e7f-c5a1-43e4-ffb8-d01451db3255"
      },
      "execution_count": null,
      "outputs": [
        {
          "output_type": "stream",
          "name": "stdout",
          "text": [
            "|   idade | sexo   |   dependentes | escolaridade        | estado_civil   | salario_anual   | tipo_cartao   |   qtd_produtos |   iteracoes_12m |   meses_inativo_12m |   limite_credito |   valor_transacoes_12m |   qtd_transacoes_12m |\n",
            "|--------:|:-------|--------------:|:--------------------|:---------------|:----------------|:--------------|---------------:|----------------:|--------------------:|-----------------:|-----------------------:|---------------------:|\n",
            "|      45 | M      |             3 | ensino medio        | casado         | $60K - $80K     | blue          |              5 |               3 |                   1 |         12691.5  |                1144.9  |                   42 |\n",
            "|      49 | F      |             5 | mestrado            | solteiro       | menos que $40K  | blue          |              6 |               2 |                   1 |          8256.96 |                1291.45 |                   33 |\n",
            "|      51 | M      |             3 | mestrado            | casado         | $80K - $120K    | blue          |              4 |               0 |                   1 |          3418.56 |                1887.72 |                   20 |\n",
            "|      40 | F      |             4 | ensino medio        | na             | menos que $40K  | blue          |              3 |               1 |                   4 |          3313.03 |                1171.56 |                   20 |\n",
            "|      40 | M      |             3 | sem educacao formal | casado         | $60K - $80K     | blue          |              5 |               0 |                   1 |          4716.22 |                 816.08 |                   28 |\n",
            "|      44 | M      |             2 | mestrado            | casado         | $40K - $60K     | blue          |              3 |               2 |                   1 |          4010.69 |                1088.07 |                   24 |\n",
            "|      51 | M      |             4 | na                  | casado         | $120K +         | gold          |              6 |               3 |                   1 |         34516.7  |                1330.87 |                   31 |\n",
            "|      32 | M      |             0 | ensino medio        | na             | $60K - $80K     | silver        |              2 |               2 |                   2 |         29081.5  |                1538.32 |                   36 |\n",
            "|      37 | M      |             3 | sem educacao formal | solteiro       | $60K - $80K     | blue          |              5 |               0 |                   2 |         22352.5  |                1350.14 |                   24 |\n",
            "|      48 | M      |             2 | mestrado            | solteiro       | $80K - $120K    | blue          |              6 |               3 |                   3 |         11656.4  |                1441.73 |                   32 |\n",
            "|      42 | M      |             5 | sem educacao formal | na             | $120K +         | blue          |              5 |               2 |                   3 |          6748.4  |                1201.27 |                   42 |\n",
            "|      65 | M      |             1 | na                  | casado         | $40K - $60K     | blue          |              6 |               3 |                   2 |          9095.59 |                1314.42 |                   26 |\n",
            "|      56 | M      |             1 | graduacao           | solteiro       | $80K - $120K    | blue          |              3 |               0 |                   6 |         11751.1  |                1539.95 |                   17 |\n",
            "|      35 | M      |             3 | mestrado            | na             | $60K - $80K     | blue          |              5 |               3 |                   1 |          8547.74 |                1311.48 |                   33 |\n",
            "|      57 | F      |             2 | mestrado            | casado         | menos que $40K  | blue          |              5 |               2 |                   2 |          2436    |                1570.23 |                   29 |\n",
            "|      44 | M      |             4 | na                  | na             | $80K - $120K    | blue          |              5 |               2 |                   1 |          4234.96 |                1348.1  |                   27 |\n",
            "|      48 | M      |             4 | doutorado           | solteiro       | $80K - $120K    | blue          |              6 |               3 |                   2 |         30367.6  |                1671.12 |                   27 |\n",
            "|      41 | M      |             3 | na                  | casado         | $80K - $120K    | blue          |              4 |               1 |                   4 |         13535.9  |                1028.75 |                   21 |\n",
            "|      61 | M      |             1 | ensino medio        | casado         | $40K - $60K     | blue          |              2 |               3 |                   2 |          3193.51 |                1336.54 |                   30 |\n",
            "|      45 | F      |             2 | mestrado            | casado         | na              | blue          |              6 |               2 |                   1 |         14470.8  |                1207.79 |                   21 |\n"
          ]
        }
      ]
    },
    {
      "cell_type": "markdown",
      "source": [
        "Sobre as colunas:\n",
        "- **idade**(*integer*): idade do cliente\n",
        "- **sexo**(*text*): sexo do cliente\n",
        "- **dependentes**(*integer*): número de dependentes\n",
        "- **escolaridade**(*text*): escolaridade do cliente\n",
        "- **estado_civil**(*text*): estado civil do cliente\n",
        "- **salario_anual**(*text*): renda anual\n",
        "- **tipo_cartao**(*text*): tipo do cartão (blue, gold,silver)\n",
        "- **qtd_produtos**(*integer*): quantidade de produtos\n",
        "- **iteracoes_12m**(*integer*): número anual de transações\n",
        "- **meses_inativo_12m**(*integer*): meses sem utilizar o cartão\n",
        "- **limite_credito**(*real*): limite de crédito\n",
        "- **valor_transacoes_12m**(*real*): valor anual de transações\n",
        "- **qtd_transacoes_12m**(*integer*): quantidade anual de transações"
      ],
      "metadata": {
        "id": "VAxJwItUOJnf"
      }
    },
    {
      "cell_type": "markdown",
      "source": [
        "# Exploração dos Dados"
      ],
      "metadata": {
        "id": "69l7eq4FDcj7"
      }
    },
    {
      "cell_type": "markdown",
      "source": [
        "Nessa etapa criamos algumas perguntas para que as consultas em SLQ possam nos ajudar e encontrar repostas."
      ],
      "metadata": {
        "id": "UAT7JT7hnxod"
      }
    },
    {
      "cell_type": "markdown",
      "source": [
        "Quais são as idade **mínima**, **média** e **máxima**; e quantos cliente temos no total?"
      ],
      "metadata": {
        "id": "QrTMz2WKoFhi"
      }
    },
    {
      "cell_type": "code",
      "source": [
        "select_query = '''\n",
        "SELECT\n",
        "  AVG(idade) AS media_idade,\n",
        "  MIN(idade) AS min_idade,\n",
        "  MAX(idade) AS max_idade,\n",
        "COUNT(*) AS total_registros\n",
        "FROM credito;\n",
        "'''\n",
        "execute_query(select_query)"
      ],
      "metadata": {
        "id": "0NbNNKe2gUnT",
        "colab": {
          "base_uri": "https://localhost:8080/"
        },
        "outputId": "965f6641-2542-4786-9f63-f2259c9de73c"
      },
      "execution_count": null,
      "outputs": [
        {
          "output_type": "stream",
          "name": "stdout",
          "text": [
            "|   media_idade |   min_idade |   max_idade |   total_registros |\n",
            "|--------------:|------------:|------------:|------------------:|\n",
            "|        45.908 |          26 |          73 |              5128 |\n"
          ]
        }
      ]
    },
    {
      "cell_type": "markdown",
      "source": [
        "Quais são os **tipos de escolaridade** disponíveis no banco de dados?"
      ],
      "metadata": {
        "id": "l4dDPHWtJAZR"
      }
    },
    {
      "cell_type": "code",
      "source": [
        "select_query = \"SELECT DISTINCT escolaridade FROM credito\"\n",
        "execute_query(select_query)"
      ],
      "metadata": {
        "id": "S_mlVAhTxTxW",
        "colab": {
          "base_uri": "https://localhost:8080/"
        },
        "outputId": "68e97b01-f603-4f24-a63c-da385d5c8c32"
      },
      "execution_count": null,
      "outputs": [
        {
          "output_type": "stream",
          "name": "stdout",
          "text": [
            "| escolaridade        |\n",
            "|:--------------------|\n",
            "| ensino medio        |\n",
            "| mestrado            |\n",
            "| sem educacao formal |\n",
            "| na                  |\n",
            "| graduacao           |\n",
            "| doutorado           |\n"
          ]
        }
      ]
    },
    {
      "cell_type": "markdown",
      "source": [
        "Quais são os **tipos de estado civil** disponíveis no banco de dados?"
      ],
      "metadata": {
        "id": "XUePtVK5JPh4"
      }
    },
    {
      "cell_type": "code",
      "source": [
        "select_query = \"SELECT DISTINCT estado_civil FROM credito\"\n",
        "execute_query(select_query)"
      ],
      "metadata": {
        "id": "-prIAy6MJTXi",
        "colab": {
          "base_uri": "https://localhost:8080/"
        },
        "outputId": "4a364034-41db-4a2b-9607-1c8704f97197"
      },
      "execution_count": null,
      "outputs": [
        {
          "output_type": "stream",
          "name": "stdout",
          "text": [
            "| estado_civil   |\n",
            "|:---------------|\n",
            "| casado         |\n",
            "| solteiro       |\n",
            "| na             |\n",
            "| divorciado     |\n"
          ]
        }
      ]
    },
    {
      "cell_type": "markdown",
      "source": [
        "Quais são as **faixas salariais anuais** disponíveis no banco de dados e **quantos clientes** temos em cada uma delas?"
      ],
      "metadata": {
        "id": "WLIq0MhgJlP9"
      }
    },
    {
      "cell_type": "code",
      "source": [
        "select_query = '''\n",
        "SELECT count(*), salario_anual FROM credito GROUP BY salario_anual'''\n",
        "execute_query(select_query)"
      ],
      "metadata": {
        "id": "suUuOzuwxe7b",
        "colab": {
          "base_uri": "https://localhost:8080/"
        },
        "outputId": "f4cb6df3-ceed-4e3f-9371-cecebeb7d39f"
      },
      "execution_count": null,
      "outputs": [
        {
          "output_type": "stream",
          "name": "stdout",
          "text": [
            "|   count(*) | salario_anual   |\n",
            "|-----------:|:----------------|\n",
            "|        444 | $120K +         |\n",
            "|        934 | $40K - $60K     |\n",
            "|        902 | $60K - $80K     |\n",
            "|        976 | $80K - $120K    |\n",
            "|       1402 | menos que $40K  |\n",
            "|        470 | na              |\n"
          ]
        }
      ]
    },
    {
      "cell_type": "markdown",
      "source": [
        " Nesse banco de dados, quantos clientes temos de cada faixa salarial?"
      ],
      "metadata": {
        "id": "van4ec4kNSPY"
      }
    },
    {
      "cell_type": "code",
      "source": [
        "select_query = '''\n",
        "SELECT count(*), salario_anual\n",
        "FROM credito\n",
        "GROUP BY salario_anual\n",
        "ORDER BY  salario_anual ASC\n",
        "'''\n",
        "execute_query(select_query)"
      ],
      "metadata": {
        "id": "kdvnqmL_MYCV",
        "colab": {
          "base_uri": "https://localhost:8080/"
        },
        "outputId": "e932501b-bd26-48cf-da07-d9730d1b16f0"
      },
      "execution_count": null,
      "outputs": [
        {
          "output_type": "stream",
          "name": "stdout",
          "text": [
            "|   count(*) | salario_anual   |\n",
            "|-----------:|:----------------|\n",
            "|        444 | $120K +         |\n",
            "|        934 | $40K - $60K     |\n",
            "|        902 | $60K - $80K     |\n",
            "|        976 | $80K - $120K    |\n",
            "|       1402 | menos que $40K  |\n",
            "|        470 | na              |\n"
          ]
        }
      ]
    },
    {
      "cell_type": "markdown",
      "source": [
        "Quantos **clientes** são homens e quantos são mulheres?"
      ],
      "metadata": {
        "id": "tV7JtSiyNTvM"
      }
    },
    {
      "cell_type": "code",
      "source": [
        "select_query = \"SELECT count(*), sexo FROM credito GROUP BY sexo\"\n",
        "execute_query(select_query)"
      ],
      "metadata": {
        "id": "QAkmKUO8Nav8",
        "colab": {
          "base_uri": "https://localhost:8080/"
        },
        "outputId": "bcc5c7d4-126a-4665-8e2c-a23b33a81c82"
      },
      "execution_count": null,
      "outputs": [
        {
          "output_type": "stream",
          "name": "stdout",
          "text": [
            "|   count(*) | sexo   |\n",
            "|-----------:|:-------|\n",
            "|       2002 | F      |\n",
            "|       3126 | M      |\n"
          ]
        }
      ]
    },
    {
      "cell_type": "markdown",
      "source": [
        "Queremos focar o nosso marketing de maneira adequada para nossos clientes, qual será a idade deles?"
      ],
      "metadata": {
        "id": "HgLKh16sNpME"
      }
    },
    {
      "cell_type": "code",
      "source": [
        "select_query = '''\n",
        "SELECT\n",
        "  avg(idade) AS media_idade,\n",
        "  MIN(idade) AS min_idade,\n",
        "  MAX(idade) AS max_idade, sexo\n",
        "FROM credito\n",
        "GROUP BY sexo\n",
        "'''\n",
        "execute_query(select_query)"
      ],
      "metadata": {
        "id": "5r59fSvZNsXU",
        "colab": {
          "base_uri": "https://localhost:8080/"
        },
        "outputId": "3ddb0b3d-8416-4b30-effc-5d244fbea797"
      },
      "execution_count": null,
      "outputs": [
        {
          "output_type": "stream",
          "name": "stdout",
          "text": [
            "|   media_idade |   min_idade |   max_idade | sexo   |\n",
            "|--------------:|------------:|------------:|:-------|\n",
            "|       46.4296 |          26 |          67 | F      |\n",
            "|       45.5739 |          26 |          73 | M      |\n"
          ]
        }
      ]
    },
    {
      "cell_type": "markdown",
      "source": [
        "Quais as características dos clientes que possuem os **maiores creditos**?"
      ],
      "metadata": {
        "id": "waV3DqLlN5pz"
      }
    },
    {
      "cell_type": "code",
      "source": [
        "select_query ='''\n",
        "SELECT\n",
        "  MAX(limite_credito) AS limite_credito,\n",
        "  escolaridade,\n",
        "  tipo_cartao,\n",
        "  sexo\n",
        "FROM credito\n",
        "WHERE escolaridade != 'na' AND tipo_cartao != 'na'\n",
        "GROUP BY escolaridade, tipo_cartao, sexo\n",
        "ORDER BY limite_credito desc\n",
        "LIMIT 10\n",
        "'''\n",
        "\n",
        "execute_query(select_query)"
      ],
      "metadata": {
        "id": "QxDSvNL_PBed",
        "colab": {
          "base_uri": "https://localhost:8080/"
        },
        "outputId": "85373b07-86f1-438f-ff1c-bfba978da6dc"
      },
      "execution_count": null,
      "outputs": [
        {
          "output_type": "stream",
          "name": "stdout",
          "text": [
            "|   limite_credito | escolaridade        | tipo_cartao   | sexo   |\n",
            "|-----------------:|:--------------------|:--------------|:-------|\n",
            "|          34517   | sem educacao formal | blue          | M      |\n",
            "|          34517   | mestrado            | gold          | M      |\n",
            "|          34517   | mestrado            | blue          | M      |\n",
            "|          34517   | doutorado           | platinum      | F      |\n",
            "|          34517   | sem educacao formal | silver        | M      |\n",
            "|          34516.9 | ensino medio        | gold          | M      |\n",
            "|          34516.9 | graduacao           | gold          | F      |\n",
            "|          34516.9 | graduacao           | gold          | M      |\n",
            "|          34516.9 | graduacao           | silver        | M      |\n",
            "|          34516.7 | ensino medio        | blue          | M      |\n"
          ]
        }
      ]
    },
    {
      "cell_type": "markdown",
      "source": [
        "Quais as características dos clientes que possuem os **menores creditos**?"
      ],
      "metadata": {
        "id": "bO81iE4YUKSg"
      }
    },
    {
      "cell_type": "code",
      "source": [
        "select_query = '''\n",
        "SELECT\n",
        "  MAX(limite_credito) AS limite_credito,\n",
        "  escolaridade,\n",
        "  tipo_cartao,\n",
        "  sexo\n",
        "FROM credito\n",
        "WHERE escolaridade != 'na' AND tipo_cartao != 'na'\n",
        "GROUP BY escolaridade, tipo_cartao, sexo\n",
        "ORDER BY limite_credito ASC\n",
        "LIMIT 10\n",
        "'''\n",
        "execute_query(select_query)"
      ],
      "metadata": {
        "id": "h8_Ed4hxUM9Z",
        "colab": {
          "base_uri": "https://localhost:8080/"
        },
        "outputId": "95a71bf7-3c60-4f10-d69e-3d11df265f62"
      },
      "execution_count": null,
      "outputs": [
        {
          "output_type": "stream",
          "name": "stdout",
          "text": [
            "|   limite_credito | escolaridade        | tipo_cartao   | sexo   |\n",
            "|-----------------:|:--------------------|:--------------|:-------|\n",
            "|          13882.4 | ensino medio        | silver        | F      |\n",
            "|          15534.9 | ensino medio        | gold          | F      |\n",
            "|          15987.8 | mestrado            | gold          | F      |\n",
            "|          23032.3 | graduacao           | blue          | F      |\n",
            "|          24936.2 | mestrado            | blue          | F      |\n",
            "|          26053.5 | doutorado           | blue          | F      |\n",
            "|          26181.9 | sem educacao formal | blue          | F      |\n",
            "|          29543.1 | ensino medio        | blue          | F      |\n",
            "|          30310.5 | mestrado            | silver        | F      |\n",
            "|          34516.2 | doutorado           | gold          | M      |\n"
          ]
        }
      ]
    },
    {
      "cell_type": "markdown",
      "source": [
        "# Análise dos dados\n"
      ],
      "metadata": {
        "id": "X-mDT5umDlTo"
      }
    },
    {
      "cell_type": "markdown",
      "source": [
        "Agora vou agrupar nossos dados para realizar uma análise gráfica mais detalhada. A seguir listei três tópicos principais para abordar:\n",
        "\n",
        "- Distribuição de idade e sexo\n",
        "- Relação entre escolaridade e salário anual\n",
        "- Perfil do uso do cartão\n"
      ],
      "metadata": {
        "id": "-07YvX2Caoqr"
      }
    },
    {
      "cell_type": "markdown",
      "source": [
        "## Distribuiçao de idade e sexo"
      ],
      "metadata": {
        "id": "zX0uRtGrmwzy"
      }
    },
    {
      "cell_type": "markdown",
      "source": [
        "Nesse tópico quero identificar como estão distribuidados as idades e sexos dos cliente, quais as porcentagens de homens e mulheres, e quais as faixas etárias deles."
      ],
      "metadata": {
        "id": "7qGM7qWbXG0h"
      }
    },
    {
      "cell_type": "code",
      "source": [
        "select_query = '''\n",
        "SELECT\n",
        "sexo,\n",
        "count(*) AS total_clientes,\n",
        "AVG(idade) AS idade_media,\n",
        "(count(*) *100/ (SELECT count(*) FROM credito)) AS percentual_sexo\n",
        "FROM credito\n",
        "GROUP BY sexo;\n",
        "'''\n",
        "execute_query(select_query)"
      ],
      "metadata": {
        "id": "0eao73PycQYm",
        "colab": {
          "base_uri": "https://localhost:8080/"
        },
        "outputId": "6abb1d62-d05f-4b17-b5b3-7a2134bc661e"
      },
      "execution_count": null,
      "outputs": [
        {
          "output_type": "stream",
          "name": "stdout",
          "text": [
            "| sexo   |   total_clientes |   idade_media |   percentual_sexo |\n",
            "|:-------|-----------------:|--------------:|------------------:|\n",
            "| F      |             2002 |       46.4296 |                39 |\n",
            "| M      |             3126 |       45.5739 |                60 |\n"
          ]
        }
      ]
    },
    {
      "cell_type": "code",
      "source": [
        "# criando um df da query para construção do gráfico\n",
        "df = pd.read_sql_query(select_query, banco)\n",
        "sns.set(style='whitegrid')\n",
        "\n",
        "fig, ax = plt.subplots(figsize=(8,8))\n",
        "ax.pie(df['total_clientes'],\n",
        "       labels=['Masculino' if x =='M' else 'Feminino' for x in df['sexo']],\n",
        "       autopct='%1.1f%%',\n",
        "       startangle=140,\n",
        "       colors=\n",
        "        ['cornflowerblue' if x == 'M' else 'lightcoral' for x in df['sexo']])\n",
        "plt.title('Distribuição de clientes por sexo', size=16)\n",
        "\n",
        "plt.show()"
      ],
      "metadata": {
        "id": "irwDWEt8fmZA",
        "colab": {
          "base_uri": "https://localhost:8080/",
          "height": 677
        },
        "outputId": "4c3a0c1e-3f22-440c-f0bf-febf1b290299"
      },
      "execution_count": null,
      "outputs": [
        {
          "output_type": "display_data",
          "data": {
            "text/plain": [
              "<Figure size 800x800 with 1 Axes>"
            ],
            "image/png": "[encoded data removed]"
          },
          "metadata": {}
        }
      ]
    },
    {
      "cell_type": "code",
      "source": [
        "# conferindo qual a idade mínima de máxima para definição da faixa etária\n",
        "select_query = '''\n",
        "SELECT\n",
        "MIN(idade) AS idade_minima,\n",
        "MAX(idade) AS idade_maxima\n",
        "FROM credito;\n",
        "'''\n",
        "execute_query(select_query)"
      ],
      "metadata": {
        "id": "YHol-CSO1Gj1",
        "colab": {
          "base_uri": "https://localhost:8080/"
        },
        "outputId": "3d218244-5c22-4553-ab66-fee8d1106d11"
      },
      "execution_count": null,
      "outputs": [
        {
          "output_type": "stream",
          "name": "stdout",
          "text": [
            "|   idade_minima |   idade_maxima |\n",
            "|---------------:|---------------:|\n",
            "|             26 |             73 |\n"
          ]
        }
      ]
    },
    {
      "cell_type": "markdown",
      "source": [
        "Para melhor visualizar como está a distribuição de idade e sexo utilizarei o gráfico de [pirâmide etária](https://www.youtube.com/watch?v=lOOf1aokYPc&t=6s), onde conseguiremos ver ao mesmo tempo ambos os sexos. Para construção do gráfico criei uma nova tabela onde serão registrados por faixas de idade (sendo a idade mínima de 25 anos e máxima de 75, e tendo como intervalo 5 anos)."
      ],
      "metadata": {
        "id": "CjgvkxsUt_Dg"
      }
    },
    {
      "cell_type": "code",
      "source": [
        "select_query = '''\n",
        "CREATE TABLE IF NOT EXISTS total_sexo_faixa_etaria AS\n",
        "SELECT\n",
        "  idade,\n",
        "  sexo,\n",
        "CASE\n",
        "  WHEN idade BETWEEN 25 AND 29 THEN '25 a 29 anos'\n",
        "  WHEN idade BETWEEN 30 AND 34 THEN '30 a 34 anos'\n",
        "  WHEN idade BETWEEN 35 AND 39 THEN '35 a 39 anos'\n",
        "  WHEN idade BETWEEN 40 AND 44 THEN '40 a 44 anos'\n",
        "  WHEN idade BETWEEN 45 AND 49 THEN '45 a 49 anos'\n",
        "  WHEN idade BETWEEN 50 AND 54 THEN '50 a 54 anos'\n",
        "  WHEN idade BETWEEN 55 AND 59 THEN '55 a 59 anos'\n",
        "  WHEN idade BETWEEN 60 AND 64 THEN '60 a 64 anos'\n",
        "  WHEN idade BETWEEN 65 AND 69 THEN '65 a 69 anos'\n",
        "  WHEN idade BETWEEN 70 AND 74 THEN '70 a 74 anos'\n",
        "  END AS faixa_etaria\n",
        "FROM\n",
        "    credito;\n",
        "'''\n",
        "cursor.execute(select_query)"
      ],
      "metadata": {
        "id": "kWgvds6E4FVq",
        "colab": {
          "base_uri": "https://localhost:8080/"
        },
        "outputId": "831a4f64-7c4e-4444-cd22-287cd9e7ee86"
      },
      "execution_count": null,
      "outputs": [
        {
          "output_type": "execute_result",
          "data": {
            "text/plain": [
              "<sqlite3.Cursor at 0x7dde22238ac0>"
            ]
          },
          "metadata": {},
          "execution_count": 80
        }
      ]
    },
    {
      "cell_type": "code",
      "source": [
        "# a nova tabela se chama 'total_sexo_faixa_etaria'\n",
        "select_query='''\n",
        "SELECT * FROM total_sexo_faixa_etaria\n",
        "limit 10;\n",
        "'''\n",
        "execute_query(select_query)"
      ],
      "metadata": {
        "id": "694x-TCv3glm",
        "colab": {
          "base_uri": "https://localhost:8080/"
        },
        "outputId": "6742d322-969a-479f-a358-5171b9d2cb2f"
      },
      "execution_count": null,
      "outputs": [
        {
          "output_type": "stream",
          "name": "stdout",
          "text": [
            "|   idade | sexo   | faixa_etaria   |\n",
            "|--------:|:-------|:---------------|\n",
            "|      45 | M      | 45 a 49 anos   |\n",
            "|      49 | F      | 45 a 49 anos   |\n",
            "|      51 | M      | 50 a 54 anos   |\n",
            "|      40 | F      | 40 a 44 anos   |\n",
            "|      40 | M      | 40 a 44 anos   |\n",
            "|      44 | M      | 40 a 44 anos   |\n",
            "|      51 | M      | 50 a 54 anos   |\n",
            "|      32 | M      | 30 a 34 anos   |\n",
            "|      37 | M      | 35 a 39 anos   |\n",
            "|      48 | M      | 45 a 49 anos   |\n"
          ]
        }
      ]
    },
    {
      "cell_type": "code",
      "source": [
        "select_query = '''\n",
        "SELECT\n",
        "    faixa_etaria,\n",
        "    SUM(CASE WHEN sexo = 'M' THEN 1 ELSE 0 END) AS total_masculino,\n",
        "    SUM(CASE WHEN sexo = 'F' THEN 1 ELSE 0 END) AS total_feminino\n",
        "FROM total_sexo_faixa_etaria\n",
        "GROUP BY faixa_etaria;\n",
        "'''\n",
        "execute_query(select_query)"
      ],
      "metadata": {
        "id": "cU_JDCxLxjxq",
        "colab": {
          "base_uri": "https://localhost:8080/"
        },
        "outputId": "1fc06b49-0ab8-4ddf-8b6f-ce7fe476110a"
      },
      "execution_count": null,
      "outputs": [
        {
          "output_type": "stream",
          "name": "stdout",
          "text": [
            "| faixa_etaria   |   total_masculino |   total_feminino |\n",
            "|:---------------|------------------:|-----------------:|\n",
            "| 25 a 29 anos   |                66 |               41 |\n",
            "| 30 a 34 anos   |               141 |               77 |\n",
            "| 35 a 39 anos   |               300 |              199 |\n",
            "| 40 a 44 anos   |               211 |              124 |\n",
            "| 45 a 49 anos   |               264 |              143 |\n",
            "| 50 a 54 anos   |               250 |              175 |\n",
            "| 55 a 59 anos   |               226 |              135 |\n",
            "| 60 a 64 anos   |                78 |               72 |\n",
            "| 65 a 69 anos   |                25 |               35 |\n",
            "| 70 a 74 anos   |                 2 |                0 |\n"
          ]
        }
      ]
    },
    {
      "cell_type": "code",
      "source": [
        "# criando um df com a query para confecção do gráfico\n",
        "df = pd.read_sql_query(select_query, banco)\n",
        "print(df)"
      ],
      "metadata": {
        "id": "EljE3C43tXCZ",
        "colab": {
          "base_uri": "https://localhost:8080/"
        },
        "outputId": "4625814d-6afa-4379-c149-45ed1570d7f6"
      },
      "execution_count": null,
      "outputs": [
        {
          "output_type": "stream",
          "name": "stdout",
          "text": [
            "   faixa_etaria  total_masculino  total_feminino\n",
            "0  25 a 29 anos               66              41\n",
            "1  30 a 34 anos              141              77\n",
            "2  35 a 39 anos              300             199\n",
            "3  40 a 44 anos              211             124\n",
            "4  45 a 49 anos              264             143\n",
            "5  50 a 54 anos              250             175\n",
            "6  55 a 59 anos              226             135\n",
            "7  60 a 64 anos               78              72\n",
            "8  65 a 69 anos               25              35\n",
            "9  70 a 74 anos                2               0\n"
          ]
        }
      ]
    },
    {
      "cell_type": "code",
      "source": [
        "# invertendo valores masculino para o gráfico\n",
        "df['total_masculino'] = df['total_masculino']*-1"
      ],
      "metadata": {
        "id": "U01PXcSTUUoq"
      },
      "execution_count": null,
      "outputs": []
    },
    {
      "cell_type": "code",
      "source": [
        "# criando lista para legenda do gráfico\n",
        "idades=['70 a 74 anos',\n",
        "        '65 a 69 anos',\n",
        "        '60 a 64 anos',\n",
        "        '55 a 59 anos',\n",
        "        '50 a 54 anos',\n",
        "        '45 a 49 anos',\n",
        "        '40 a 44 anos',\n",
        "        '35 a 39 anos',\n",
        "        '30 a 34 anos',\n",
        "        '25 a 29 anos']"
      ],
      "metadata": {
        "id": "hRq0HY43W4Dq"
      },
      "execution_count": null,
      "outputs": []
    },
    {
      "cell_type": "code",
      "source": [
        "plt.figure(figsize=(10,8))\n",
        "# gráfico masculino\n",
        "ax1 = sns.barplot(\n",
        "    x='total_masculino',\n",
        "    y='faixa_etaria',\n",
        "    order=idades,\n",
        "    data=df,\n",
        "    color='cornflowerblue')\n",
        "# gráfico feminino\n",
        "ax2 = sns.barplot(\n",
        "    x='total_feminino',\n",
        "    y='faixa_etaria',\n",
        "    order=idades,\n",
        "    data=df,\n",
        "    color='lightcoral')\n",
        "plt.title('Pirâmide etária dos clientes')\n",
        "plt.xlabel('Quantidade')\n",
        "plt.ylabel('Faixa etária')\n",
        "plt.grid(False)\n",
        "\n",
        "# invertendo sinal da legenda\n",
        "plt.xticks(ticks=[-300, -200, -100, 0, 100, 200, 300],\n",
        "labels = ['300', '200', '100', '0', '100', '200','300'])\n",
        "plt.grid(axis='x', linestyle=':', alpha=0.9)\n",
        "\n",
        "# legenda\n",
        "masculino_patch = Patch(color='cornflowerblue', label='Masculino')\n",
        "feminino_patch = Patch(color='lightcoral', label='Feminino')\n",
        "plt.legend(handles=[masculino_patch, feminino_patch], loc='upper right')"
      ],
      "metadata": {
        "id": "hZuRPP9RXZBk",
        "colab": {
          "base_uri": "https://localhost:8080/",
          "height": 745
        },
        "outputId": "eb43efeb-b266-4294-8459-74c630d420e2"
      },
      "execution_count": null,
      "outputs": [
        {
          "output_type": "execute_result",
          "data": {
            "text/plain": [
              "<matplotlib.legend.Legend at 0x7dde1d361d80>"
            ]
          },
          "metadata": {},
          "execution_count": 86
        },
        {
          "output_type": "display_data",
          "data": {
            "text/plain": [
              "<Figure size 1000x800 with 1 Axes>"
            ],
            "image/png": "[encoded data removed]"
          },
          "metadata": {}
        }
      ]
    },
    {
      "cell_type": "markdown",
      "source": [
        "Podemos ver que 61% dos clientes são homens, estando o maior número  na faixa dos 35 aos 39 anos, havendo também um quantidade semelhante de cliente homens nas faixa dos 45 aos 59. Já as mulheres representam 39% dos cliente, tendo a faixa etária mais comum dentre os 35 aos 39 e havendo um número próximo na faixa de 50 à 54 anos.\n",
        "Em ambos os sexos existe uma queda no número de clientes exatamente na faixa dos 40 aos 44 anos, podendo ser analisado mais a fundo em como eles utilizam o cartão e até mesmo estudar em como melhorar o produto (cartão de crédito) especificamente para os usos dessa faixa etária."
      ],
      "metadata": {
        "id": "v3GhiI2DXzfM"
      }
    },
    {
      "cell_type": "markdown",
      "source": [
        "## Relação entre escolaridade e salário anual"
      ],
      "metadata": {
        "id": "ReQ1PvVUm3yx"
      }
    },
    {
      "cell_type": "markdown",
      "source": [
        "Nesse tópico quero abordar como a escolaridade influência no saário anual dos clientes. Para que assim possamos identificar como os diferentes níveis de escolaridade têm potêncial financeiro para utilizarem o cartão, ou até mesmo para aumentar limites e criar novos produtos para determinando tipo de cliente. Como referência utilizarei o gráfico de [barras empilhadas](https://medium.com/horadecodar/gr%C3%A1ficos-de-barra-com-matplotlib-85628bfc4351) por percentual para [visualizar os salários](https://www.moneytimes.com.br/de-r-33-mil-a-r-165-mil-quanto-ganham-profissionais-de-marketing-digital-e-desenvolvimento/) de cada nível.\n",
        "\n"
      ],
      "metadata": {
        "id": "b79EPvSFbR5k"
      }
    },
    {
      "cell_type": "code",
      "source": [
        "select_query='''\n",
        "SELECT\n",
        "  escolaridade,\n",
        "  salario_anual AS media_salario\n",
        "FROM credito\n",
        "GROUP BY escolaridade\n",
        "ORDER BY media_salario DESC;\n",
        "'''\n",
        "execute_query(select_query)"
      ],
      "metadata": {
        "id": "vDrAHBoix7ia",
        "colab": {
          "base_uri": "https://localhost:8080/"
        },
        "outputId": "5f7841f3-0228-4911-de93-ba12691c93f7"
      },
      "execution_count": null,
      "outputs": [
        {
          "output_type": "stream",
          "name": "stdout",
          "text": [
            "| escolaridade        | media_salario   |\n",
            "|:--------------------|:----------------|\n",
            "| mestrado            | menos que $40K  |\n",
            "| graduacao           | $80K - $120K    |\n",
            "| doutorado           | $80K - $120K    |\n",
            "| sem educacao formal | $60K - $80K     |\n",
            "| ensino medio        | $60K - $80K     |\n",
            "| na                  | $120K +         |\n"
          ]
        }
      ]
    },
    {
      "cell_type": "code",
      "source": [
        "select_query = '''\n",
        "SELECT\n",
        "  escolaridade,\n",
        "  salario_anual,\n",
        "  count (*) AS count_salario\n",
        "FROM credito\n",
        "GROUP BY\n",
        "  escolaridade,\n",
        "  salario_anual;\n",
        "'''\n",
        "execute_query(select_query)"
      ],
      "metadata": {
        "id": "SlCsKQ8mGEyU",
        "colab": {
          "base_uri": "https://localhost:8080/"
        },
        "outputId": "b164b100-d6e6-44c3-a916-2bf855304eb0"
      },
      "execution_count": null,
      "outputs": [
        {
          "output_type": "stream",
          "name": "stdout",
          "text": [
            "| escolaridade        | salario_anual   |   count_salario |\n",
            "|:--------------------|:----------------|----------------:|\n",
            "| doutorado           | $120K +         |              36 |\n",
            "| doutorado           | $40K - $60K     |              80 |\n",
            "| doutorado           | $60K - $80K     |              90 |\n",
            "| doutorado           | $80K - $120K    |              86 |\n",
            "| doutorado           | menos que $40K  |             124 |\n",
            "| doutorado           | na              |              54 |\n",
            "| ensino medio        | $120K +         |              98 |\n",
            "| ensino medio        | $40K - $60K     |             214 |\n",
            "| ensino medio        | $60K - $80K     |             216 |\n",
            "| ensino medio        | $80K - $120K    |             196 |\n",
            "| ensino medio        | menos que $40K  |             266 |\n",
            "| ensino medio        | na              |             100 |\n",
            "| graduacao           | $120K +         |              58 |\n",
            "| graduacao           | $40K - $60K     |              86 |\n",
            "| graduacao           | $60K - $80K     |              88 |\n",
            "| graduacao           | $80K - $120K    |             116 |\n",
            "| graduacao           | menos que $40K  |             138 |\n",
            "| graduacao           | na              |              36 |\n",
            "| mestrado            | $120K +         |             124 |\n",
            "| mestrado            | $40K - $60K     |             284 |\n",
            "| mestrado            | $60K - $80K     |             270 |\n",
            "| mestrado            | $80K - $120K    |             324 |\n",
            "| mestrado            | menos que $40K  |             478 |\n",
            "| mestrado            | na              |             140 |\n",
            "| na                  | $120K +         |              70 |\n",
            "| na                  | $40K - $60K     |             128 |\n",
            "| na                  | $60K - $80K     |             124 |\n",
            "| na                  | $80K - $120K    |             126 |\n",
            "| na                  | menos que $40K  |             176 |\n",
            "| na                  | na              |              68 |\n",
            "| sem educacao formal | $120K +         |              58 |\n",
            "| sem educacao formal | $40K - $60K     |             142 |\n",
            "| sem educacao formal | $60K - $80K     |             114 |\n",
            "| sem educacao formal | $80K - $120K    |             128 |\n",
            "| sem educacao formal | menos que $40K  |             220 |\n",
            "| sem educacao formal | na              |              72 |\n"
          ]
        }
      ]
    },
    {
      "cell_type": "code",
      "source": [
        "# pivotando as colunas\n",
        "select_query = '''\n",
        "SELECT\n",
        "  escolaridade,\n",
        "  na,\n",
        "  menos_que_40k,\n",
        "  entre_40k_60k,\n",
        "  entre_60k_80k,\n",
        "  entre_80k_120k,\n",
        "  acima_120k,\n",
        "  total_por_linha\n",
        "FROM (\n",
        "  SELECT\n",
        "    escolaridade,\n",
        "    SUM(CASE WHEN salario_anual = 'na' THEN count_salario ELSE 0 END) AS na,\n",
        "    SUM(CASE WHEN salario_anual = 'menos que $40K'\n",
        "      THEN count_salario ELSE 0 END) AS menos_que_40k,\n",
        "    SUM(CASE WHEN salario_anual = '$40K - $60K'\n",
        "      THEN count_salario ELSE 0 END) AS entre_40k_60k,\n",
        "    SUM(CASE WHEN salario_anual = '$60K - $80K'\n",
        "      THEN count_salario ELSE 0 END) AS entre_60k_80k,\n",
        "    SUM(CASE WHEN salario_anual = '$80K - $120K'\n",
        "      THEN count_salario ELSE 0 END) AS entre_80k_120k,\n",
        "    SUM(CASE WHEN salario_anual = '$120K +'\n",
        "      THEN count_salario ELSE 0 END) AS acima_120k,\n",
        "    SUM(count_salario) AS total_por_linha\n",
        "  FROM (\n",
        "    SELECT\n",
        "      escolaridade,\n",
        "      salario_anual,\n",
        "      COUNT(*) AS count_salario\n",
        "    FROM credito\n",
        "    GROUP BY escolaridade, salario_anual\n",
        "    ) AS counts\n",
        "GROUP BY\n",
        "escolaridade\n",
        ") AS counts_with_total\n",
        "ORDER BY\n",
        "  CASE escolaridade\n",
        "    WHEN 'doutorando' THEN 1\n",
        "    WHEN 'mestrado' THEN 2\n",
        "    WHEN 'graduacao' THEN 3\n",
        "    WHEN 'ensino medio' THEN 4\n",
        "    WHEN 'sem educacao formal' THEN 5\n",
        "    WHEN 'na' THEN 6\n",
        "END;\n",
        "'''\n",
        "execute_query(select_query)"
      ],
      "metadata": {
        "id": "7xSK5GhzGmoc",
        "colab": {
          "base_uri": "https://localhost:8080/"
        },
        "outputId": "3aae65f5-5bad-4dc8-8a32-0461aa0b60a7"
      },
      "execution_count": null,
      "outputs": [
        {
          "output_type": "stream",
          "name": "stdout",
          "text": [
            "| escolaridade        |   na |   menos_que_40k |   entre_40k_60k |   entre_60k_80k |   entre_80k_120k |   acima_120k |   total_por_linha |\n",
            "|:--------------------|-----:|----------------:|----------------:|----------------:|-----------------:|-------------:|------------------:|\n",
            "| doutorado           |   54 |             124 |              80 |              90 |               86 |           36 |               470 |\n",
            "| mestrado            |  140 |             478 |             284 |             270 |              324 |          124 |              1620 |\n",
            "| graduacao           |   36 |             138 |              86 |              88 |              116 |           58 |               522 |\n",
            "| ensino medio        |  100 |             266 |             214 |             216 |              196 |           98 |              1090 |\n",
            "| sem educacao formal |   72 |             220 |             142 |             114 |              128 |           58 |               734 |\n",
            "| na                  |   68 |             176 |             128 |             124 |              126 |           70 |               692 |\n"
          ]
        }
      ]
    },
    {
      "cell_type": "code",
      "source": [
        "#select_query='select escolaridade, salario_anual from credito' # nao apagar isso, tudo depende disso\n",
        "df = pd.read_sql_query(select_query, banco)\n",
        "df"
      ],
      "metadata": {
        "id": "jEvsqqXz2DJm",
        "colab": {
          "base_uri": "https://localhost:8080/",
          "height": 238
        },
        "outputId": "6e58a73f-cd00-4386-a637-ebeb8e11c135"
      },
      "execution_count": null,
      "outputs": [
        {
          "output_type": "execute_result",
          "data": {
            "text/plain": [
              "          escolaridade   na  menos_que_40k  entre_40k_60k  entre_60k_80k  \\\n",
              "0            doutorado   54            124             80             90   \n",
              "1             mestrado  140            478            284            270   \n",
              "2            graduacao   36            138             86             88   \n",
              "3         ensino medio  100            266            214            216   \n",
              "4  sem educacao formal   72            220            142            114   \n",
              "5                   na   68            176            128            124   \n",
              "\n",
              "   entre_80k_120k  acima_120k  total_por_linha  \n",
              "0              86          36              470  \n",
              "1             324         124             1620  \n",
              "2             116          58              522  \n",
              "3             196          98             1090  \n",
              "4             128          58              734  \n",
              "5             126          70              692  "
            ],
            "text/html": [
              "\n",
              "  <div id=\"df-beaf3ba7-ea77-4969-9411-7990180f5b63\" class=\"colab-df-container\">\n",
              "    <div>\n",
              "<style scoped>\n",
              "    .dataframe tbody tr th:only-of-type {\n",
              "        vertical-align: middle;\n",
              "    }\n",
              "\n",
              "    .dataframe tbody tr th {\n",
              "        vertical-align: top;\n",
              "    }\n",
              "\n",
              "    .dataframe thead th {\n",
              "        text-align: right;\n",
              "    }\n",
              "</style>\n",
              "<table border=\"1\" class=\"dataframe\">\n",
              "  <thead>\n",
              "    <tr style=\"text-align: right;\">\n",
              "      <th></th>\n",
              "      <th>escolaridade</th>\n",
              "      <th>na</th>\n",
              "      <th>menos_que_40k</th>\n",
              "      <th>entre_40k_60k</th>\n",
              "      <th>entre_60k_80k</th>\n",
              "      <th>entre_80k_120k</th>\n",
              "      <th>acima_120k</th>\n",
              "      <th>total_por_linha</th>\n",
              "    </tr>\n",
              "  </thead>\n",
              "  <tbody>\n",
              "    <tr>\n",
              "      <th>0</th>\n",
              "      <td>doutorado</td>\n",
              "      <td>54</td>\n",
              "      <td>124</td>\n",
              "      <td>80</td>\n",
              "      <td>90</td>\n",
              "      <td>86</td>\n",
              "      <td>36</td>\n",
              "      <td>470</td>\n",
              "    </tr>\n",
              "    <tr>\n",
              "      <th>1</th>\n",
              "      <td>mestrado</td>\n",
              "      <td>140</td>\n",
              "      <td>478</td>\n",
              "      <td>284</td>\n",
              "      <td>270</td>\n",
              "      <td>324</td>\n",
              "      <td>124</td>\n",
              "      <td>1620</td>\n",
              "    </tr>\n",
              "    <tr>\n",
              "      <th>2</th>\n",
              "      <td>graduacao</td>\n",
              "      <td>36</td>\n",
              "      <td>138</td>\n",
              "      <td>86</td>\n",
              "      <td>88</td>\n",
              "      <td>116</td>\n",
              "      <td>58</td>\n",
              "      <td>522</td>\n",
              "    </tr>\n",
              "    <tr>\n",
              "      <th>3</th>\n",
              "      <td>ensino medio</td>\n",
              "      <td>100</td>\n",
              "      <td>266</td>\n",
              "      <td>214</td>\n",
              "      <td>216</td>\n",
              "      <td>196</td>\n",
              "      <td>98</td>\n",
              "      <td>1090</td>\n",
              "    </tr>\n",
              "    <tr>\n",
              "      <th>4</th>\n",
              "      <td>sem educacao formal</td>\n",
              "      <td>72</td>\n",
              "      <td>220</td>\n",
              "      <td>142</td>\n",
              "      <td>114</td>\n",
              "      <td>128</td>\n",
              "      <td>58</td>\n",
              "      <td>734</td>\n",
              "    </tr>\n",
              "    <tr>\n",
              "      <th>5</th>\n",
              "      <td>na</td>\n",
              "      <td>68</td>\n",
              "      <td>176</td>\n",
              "      <td>128</td>\n",
              "      <td>124</td>\n",
              "      <td>126</td>\n",
              "      <td>70</td>\n",
              "      <td>692</td>\n",
              "    </tr>\n",
              "  </tbody>\n",
              "</table>\n",
              "</div>\n",
              "    <div class=\"colab-df-buttons\">\n",
              "\n",
              "  <div class=\"colab-df-container\">\n",
              "    <button class=\"colab-df-convert\" onclick=\"convertToInteractive('df-beaf3ba7-ea77-4969-9411-7990180f5b63')\"\n",
              "            title=\"Convert this dataframe to an interactive table.\"\n",
              "            style=\"display:none;\">\n",
              "\n",
              "  <svg xmlns=\"http://www.w3.org/2000/svg\" height=\"24px\" viewBox=\"0 -960 960 960\">\n",
              "    <path d=\"M120-120v-720h720v720H120Zm60-500h600v-160H180v160Zm220 220h160v-160H400v160Zm0 220h160v-160H400v160ZM180-400h160v-160H180v160Zm440 0h160v-160H620v160ZM180-180h160v-160H180v160Zm440 0h160v-160H620v160Z\"/>\n",
              "  </svg>\n",
              "    </button>\n",
              "\n",
              "  <style>\n",
              "    .colab-df-container {\n",
              "      display:flex;\n",
              "      gap: 12px;\n",
              "    }\n",
              "\n",
              "    .colab-df-convert {\n",
              "      background-color: #E8F0FE;\n",
              "      border: none;\n",
              "      border-radius: 50%;\n",
              "      cursor: pointer;\n",
              "      display: none;\n",
              "      fill: #1967D2;\n",
              "      height: 32px;\n",
              "      padding: 0 0 0 0;\n",
              "      width: 32px;\n",
              "    }\n",
              "\n",
              "    .colab-df-convert:hover {\n",
              "      background-color: #E2EBFA;\n",
              "      box-shadow: 0px 1px 2px rgba(60, 64, 67, 0.3), 0px 1px 3px 1px rgba(60, 64, 67, 0.15);\n",
              "      fill: #174EA6;\n",
              "    }\n",
              "\n",
              "    .colab-df-buttons div {\n",
              "      margin-bottom: 4px;\n",
              "    }\n",
              "\n",
              "    [theme=dark] .colab-df-convert {\n",
              "      background-color: #3B4455;\n",
              "      fill: #D2E3FC;\n",
              "    }\n",
              "\n",
              "    [theme=dark] .colab-df-convert:hover {\n",
              "      background-color: #434B5C;\n",
              "      box-shadow: 0px 1px 3px 1px rgba(0, 0, 0, 0.15);\n",
              "      filter: drop-shadow(0px 1px 2px rgba(0, 0, 0, 0.3));\n",
              "      fill: #FFFFFF;\n",
              "    }\n",
              "  </style>\n",
              "\n",
              "    <script>\n",
              "      const buttonEl =\n",
              "        document.querySelector('#df-beaf3ba7-ea77-4969-9411-7990180f5b63 button.colab-df-convert');\n",
              "      buttonEl.style.display =\n",
              "        google.colab.kernel.accessAllowed ? 'block' : 'none';\n",
              "\n",
              "      async function convertToInteractive(key) {\n",
              "        const element = document.querySelector('#df-beaf3ba7-ea77-4969-9411-7990180f5b63');\n",
              "        const dataTable =\n",
              "          await google.colab.kernel.invokeFunction('convertToInteractive',\n",
              "                                                    [key], {});\n",
              "        if (!dataTable) return;\n",
              "\n",
              "        const docLinkHtml = 'Like what you see? Visit the ' +\n",
              "          '<a target=\"_blank\" href=https://colab.research.google.com/notebooks/data_table.ipynb>data table notebook</a>'\n",
              "          + ' to learn more about interactive tables.';\n",
              "        element.innerHTML = '';\n",
              "        dataTable['output_type'] = 'display_data';\n",
              "        await google.colab.output.renderOutput(dataTable, element);\n",
              "        const docLink = document.createElement('div');\n",
              "        docLink.innerHTML = docLinkHtml;\n",
              "        element.appendChild(docLink);\n",
              "      }\n",
              "    </script>\n",
              "  </div>\n",
              "\n",
              "\n",
              "<div id=\"df-ca1e4674-8f07-4e70-b533-640aea4dac36\">\n",
              "  <button class=\"colab-df-quickchart\" onclick=\"quickchart('df-ca1e4674-8f07-4e70-b533-640aea4dac36')\"\n",
              "            title=\"Suggest charts\"\n",
              "            style=\"display:none;\">\n",
              "\n",
              "<svg xmlns=\"http://www.w3.org/2000/svg\" height=\"24px\"viewBox=\"0 0 24 24\"\n",
              "     width=\"24px\">\n",
              "    <g>\n",
              "        <path d=\"M19 3H5c-1.1 0-2 .9-2 2v14c0 1.1.9 2 2 2h14c1.1 0 2-.9 2-2V5c0-1.1-.9-2-2-2zM9 17H7v-7h2v7zm4 0h-2V7h2v10zm4 0h-2v-4h2v4z\"/>\n",
              "    </g>\n",
              "</svg>\n",
              "  </button>\n",
              "\n",
              "<style>\n",
              "  .colab-df-quickchart {\n",
              "      --bg-color: #E8F0FE;\n",
              "      --fill-color: #1967D2;\n",
              "      --hover-bg-color: #E2EBFA;\n",
              "      --hover-fill-color: #174EA6;\n",
              "      --disabled-fill-color: #AAA;\n",
              "      --disabled-bg-color: #DDD;\n",
              "  }\n",
              "\n",
              "  [theme=dark] .colab-df-quickchart {\n",
              "      --bg-color: #3B4455;\n",
              "      --fill-color: #D2E3FC;\n",
              "      --hover-bg-color: #434B5C;\n",
              "      --hover-fill-color: #FFFFFF;\n",
              "      --disabled-bg-color: #3B4455;\n",
              "      --disabled-fill-color: #666;\n",
              "  }\n",
              "\n",
              "  .colab-df-quickchart {\n",
              "    background-color: var(--bg-color);\n",
              "    border: none;\n",
              "    border-radius: 50%;\n",
              "    cursor: pointer;\n",
              "    display: none;\n",
              "    fill: var(--fill-color);\n",
              "    height: 32px;\n",
              "    padding: 0;\n",
              "    width: 32px;\n",
              "  }\n",
              "\n",
              "  .colab-df-quickchart:hover {\n",
              "    background-color: var(--hover-bg-color);\n",
              "    box-shadow: 0 1px 2px rgba(60, 64, 67, 0.3), 0 1px 3px 1px rgba(60, 64, 67, 0.15);\n",
              "    fill: var(--button-hover-fill-color);\n",
              "  }\n",
              "\n",
              "  .colab-df-quickchart-complete:disabled,\n",
              "  .colab-df-quickchart-complete:disabled:hover {\n",
              "    background-color: var(--disabled-bg-color);\n",
              "    fill: var(--disabled-fill-color);\n",
              "    box-shadow: none;\n",
              "  }\n",
              "\n",
              "  .colab-df-spinner {\n",
              "    border: 2px solid var(--fill-color);\n",
              "    border-color: transparent;\n",
              "    border-bottom-color: var(--fill-color);\n",
              "    animation:\n",
              "      spin 1s steps(1) infinite;\n",
              "  }\n",
              "\n",
              "  @keyframes spin {\n",
              "    0% {\n",
              "      border-color: transparent;\n",
              "      border-bottom-color: var(--fill-color);\n",
              "      border-left-color: var(--fill-color);\n",
              "    }\n",
              "    20% {\n",
              "      border-color: transparent;\n",
              "      border-left-color: var(--fill-color);\n",
              "      border-top-color: var(--fill-color);\n",
              "    }\n",
              "    30% {\n",
              "      border-color: transparent;\n",
              "      border-left-color: var(--fill-color);\n",
              "      border-top-color: var(--fill-color);\n",
              "      border-right-color: var(--fill-color);\n",
              "    }\n",
              "    40% {\n",
              "      border-color: transparent;\n",
              "      border-right-color: var(--fill-color);\n",
              "      border-top-color: var(--fill-color);\n",
              "    }\n",
              "    60% {\n",
              "      border-color: transparent;\n",
              "      border-right-color: var(--fill-color);\n",
              "    }\n",
              "    80% {\n",
              "      border-color: transparent;\n",
              "      border-right-color: var(--fill-color);\n",
              "      border-bottom-color: var(--fill-color);\n",
              "    }\n",
              "    90% {\n",
              "      border-color: transparent;\n",
              "      border-bottom-color: var(--fill-color);\n",
              "    }\n",
              "  }\n",
              "</style>\n",
              "\n",
              "  <script>\n",
              "    async function quickchart(key) {\n",
              "      const quickchartButtonEl =\n",
              "        document.querySelector('#' + key + ' button');\n",
              "      quickchartButtonEl.disabled = true;  // To prevent multiple clicks.\n",
              "      quickchartButtonEl.classList.add('colab-df-spinner');\n",
              "      try {\n",
              "        const charts = await google.colab.kernel.invokeFunction(\n",
              "            'suggestCharts', [key], {});\n",
              "      } catch (error) {\n",
              "        console.error('Error during call to suggestCharts:', error);\n",
              "      }\n",
              "      quickchartButtonEl.classList.remove('colab-df-spinner');\n",
              "      quickchartButtonEl.classList.add('colab-df-quickchart-complete');\n",
              "    }\n",
              "    (() => {\n",
              "      let quickchartButtonEl =\n",
              "        document.querySelector('#df-ca1e4674-8f07-4e70-b533-640aea4dac36 button');\n",
              "      quickchartButtonEl.style.display =\n",
              "        google.colab.kernel.accessAllowed ? 'block' : 'none';\n",
              "    })();\n",
              "  </script>\n",
              "</div>\n",
              "\n",
              "  <div id=\"id_3137042f-aba6-43c4-a84e-b1b3afcf1356\">\n",
              "    <style>\n",
              "      .colab-df-generate {\n",
              "        background-color: #E8F0FE;\n",
              "        border: none;\n",
              "        border-radius: 50%;\n",
              "        cursor: pointer;\n",
              "        display: none;\n",
              "        fill: #1967D2;\n",
              "        height: 32px;\n",
              "        padding: 0 0 0 0;\n",
              "        width: 32px;\n",
              "      }\n",
              "\n",
              "      .colab-df-generate:hover {\n",
              "        background-color: #E2EBFA;\n",
              "        box-shadow: 0px 1px 2px rgba(60, 64, 67, 0.3), 0px 1px 3px 1px rgba(60, 64, 67, 0.15);\n",
              "        fill: #174EA6;\n",
              "      }\n",
              "\n",
              "      [theme=dark] .colab-df-generate {\n",
              "        background-color: #3B4455;\n",
              "        fill: #D2E3FC;\n",
              "      }\n",
              "\n",
              "      [theme=dark] .colab-df-generate:hover {\n",
              "        background-color: #434B5C;\n",
              "        box-shadow: 0px 1px 3px 1px rgba(0, 0, 0, 0.15);\n",
              "        filter: drop-shadow(0px 1px 2px rgba(0, 0, 0, 0.3));\n",
              "        fill: #FFFFFF;\n",
              "      }\n",
              "    </style>\n",
              "    <button class=\"colab-df-generate\" onclick=\"generateWithVariable('df')\"\n",
              "            title=\"Generate code using this dataframe.\"\n",
              "            style=\"display:none;\">\n",
              "\n",
              "  <svg xmlns=\"http://www.w3.org/2000/svg\" height=\"24px\"viewBox=\"0 0 24 24\"\n",
              "       width=\"24px\">\n",
              "    <path d=\"M7,19H8.4L18.45,9,17,7.55,7,17.6ZM5,21V16.75L18.45,3.32a2,2,0,0,1,2.83,0l1.4,1.43a1.91,1.91,0,0,1,.58,1.4,1.91,1.91,0,0,1-.58,1.4L9.25,21ZM18.45,9,17,7.55Zm-12,3A5.31,5.31,0,0,0,4.9,8.1,5.31,5.31,0,0,0,1,6.5,5.31,5.31,0,0,0,4.9,4.9,5.31,5.31,0,0,0,6.5,1,5.31,5.31,0,0,0,8.1,4.9,5.31,5.31,0,0,0,12,6.5,5.46,5.46,0,0,0,6.5,12Z\"/>\n",
              "  </svg>\n",
              "    </button>\n",
              "    <script>\n",
              "      (() => {\n",
              "      const buttonEl =\n",
              "        document.querySelector('#id_3137042f-aba6-43c4-a84e-b1b3afcf1356 button.colab-df-generate');\n",
              "      buttonEl.style.display =\n",
              "        google.colab.kernel.accessAllowed ? 'block' : 'none';\n",
              "\n",
              "      buttonEl.onclick = () => {\n",
              "        google.colab.notebook.generateWithVariable('df');\n",
              "      }\n",
              "      })();\n",
              "    </script>\n",
              "  </div>\n",
              "\n",
              "    </div>\n",
              "  </div>\n"
            ],
            "application/vnd.google.colaboratory.intrinsic+json": {
              "type": "dataframe",
              "variable_name": "df",
              "summary": "{\n  \"name\": \"df\",\n  \"rows\": 6,\n  \"fields\": [\n    {\n      \"column\": \"escolaridade\",\n      \"properties\": {\n        \"dtype\": \"string\",\n        \"num_unique_values\": 6,\n        \"samples\": [\n          \"doutorado\",\n          \"mestrado\",\n          \"na\"\n        ],\n        \"semantic_type\": \"\",\n        \"description\": \"\"\n      }\n    },\n    {\n      \"column\": \"na\",\n      \"properties\": {\n        \"dtype\": \"number\",\n        \"std\": 36,\n        \"min\": 36,\n        \"max\": 140,\n        \"num_unique_values\": 6,\n        \"samples\": [\n          54,\n          140,\n          68\n        ],\n        \"semantic_type\": \"\",\n        \"description\": \"\"\n      }\n    },\n    {\n      \"column\": \"menos_que_40k\",\n      \"properties\": {\n        \"dtype\": \"number\",\n        \"std\": 130,\n        \"min\": 124,\n        \"max\": 478,\n        \"num_unique_values\": 6,\n        \"samples\": [\n          124,\n          478,\n          176\n        ],\n        \"semantic_type\": \"\",\n        \"description\": \"\"\n      }\n    },\n    {\n      \"column\": \"entre_40k_60k\",\n      \"properties\": {\n        \"dtype\": \"number\",\n        \"std\": 79,\n        \"min\": 80,\n        \"max\": 284,\n        \"num_unique_values\": 6,\n        \"samples\": [\n          80,\n          284,\n          128\n        ],\n        \"semantic_type\": \"\",\n        \"description\": \"\"\n      }\n    },\n    {\n      \"column\": \"entre_60k_80k\",\n      \"properties\": {\n        \"dtype\": \"number\",\n        \"std\": 75,\n        \"min\": 88,\n        \"max\": 270,\n        \"num_unique_values\": 6,\n        \"samples\": [\n          90,\n          270,\n          124\n        ],\n        \"semantic_type\": \"\",\n        \"description\": \"\"\n      }\n    },\n    {\n      \"column\": \"entre_80k_120k\",\n      \"properties\": {\n        \"dtype\": \"number\",\n        \"std\": 86,\n        \"min\": 86,\n        \"max\": 324,\n        \"num_unique_values\": 6,\n        \"samples\": [\n          86,\n          324,\n          126\n        ],\n        \"semantic_type\": \"\",\n        \"description\": \"\"\n      }\n    },\n    {\n      \"column\": \"acima_120k\",\n      \"properties\": {\n        \"dtype\": \"number\",\n        \"std\": 31,\n        \"min\": 36,\n        \"max\": 124,\n        \"num_unique_values\": 5,\n        \"samples\": [\n          124,\n          70,\n          58\n        ],\n        \"semantic_type\": \"\",\n        \"description\": \"\"\n      }\n    },\n    {\n      \"column\": \"total_por_linha\",\n      \"properties\": {\n        \"dtype\": \"number\",\n        \"std\": 433,\n        \"min\": 470,\n        \"max\": 1620,\n        \"num_unique_values\": 6,\n        \"samples\": [\n          470,\n          1620,\n          692\n        ],\n        \"semantic_type\": \"\",\n        \"description\": \"\"\n      }\n    }\n  ]\n}"
            }
          },
          "metadata": {},
          "execution_count": 90
        }
      ]
    },
    {
      "cell_type": "code",
      "source": [
        "# renomeando as coluns para a legenda do gráfico\n",
        "df.columns = ['Escolaridade',\n",
        "              'Não Informado',\n",
        "              'Menos de 40K',\n",
        "              'Entre 40K e 60K',\n",
        "              'Entre 60K e 80K',\n",
        "              'Entre 80K e 120K',\n",
        "              'Acima de 120K',\n",
        "              'Total por Escolaridade']"
      ],
      "metadata": {
        "id": "0sjXM2kZSbfn"
      },
      "execution_count": null,
      "outputs": []
    },
    {
      "cell_type": "code",
      "source": [
        "# renomeando as linhas para confecção do gráfico\n",
        "nomes_escolaridades = ['Doutorado',\n",
        "                       'Mestrado',\n",
        "                       'Graduação',\n",
        "                       'Ensino Médio',\n",
        "                       'Sem Escolaridade',\n",
        "                       'Não Informado']\n",
        "df.loc[:5,'Escolaridade'] = nomes_escolaridades"
      ],
      "metadata": {
        "id": "zGqaiBY5WlU-"
      },
      "execution_count": null,
      "outputs": []
    },
    {
      "cell_type": "code",
      "source": [
        "# criando funcão para converter valores absolutos em porcentagem\n",
        "def transform_to_percentage(df):\n",
        "    columns_to_transform = ['Não Informado',\n",
        "                            'Menos de 40K',\n",
        "                            'Entre 40K e 60K',\n",
        "                            'Entre 60K e 80K',\n",
        "                            'Entre 80K e 120K',\n",
        "                            'Acima de 120K',\n",
        "                            'Total por Escolaridade']\n",
        "    for col in columns_to_transform:\n",
        "        df[col] = round(((df[col] / df['Total por Escolaridade']) * 100),2)\n",
        "    return df\n",
        "\n",
        "# aplicando a função\n",
        "df_transformed = transform_to_percentage(df)\n",
        "\n",
        "# selecionando apenas colunas de porcentagens e escolaridade\n",
        "df = df_transformed[['Escolaridade',\n",
        "                     'Não Informado',\n",
        "                     'Menos de 40K',\n",
        "                     'Entre 40K e 60K',\n",
        "                     'Entre 60K e 80K',\n",
        "                     'Entre 80K e 120K',\n",
        "                     'Acima de 120K',\n",
        "                     'Total por Escolaridade']]\n",
        "df = df.iloc[::-1].reset_index(drop=True) # invertendo a ordem para o grafico\n",
        "df"
      ],
      "metadata": {
        "id": "xwyuZGoyVGXT",
        "colab": {
          "base_uri": "https://localhost:8080/",
          "height": 272
        },
        "outputId": "23f9ea9d-8fff-41a5-d58a-5b92305729d5"
      },
      "execution_count": null,
      "outputs": [
        {
          "output_type": "execute_result",
          "data": {
            "text/plain": [
              "       Escolaridade  Não Informado  Menos de 40K  Entre 40K e 60K  \\\n",
              "0     Não Informado           9.83         25.43            18.50   \n",
              "1  Sem Escolaridade           9.81         29.97            19.35   \n",
              "2      Ensino Médio           9.17         24.40            19.63   \n",
              "3         Graduação           6.90         26.44            16.48   \n",
              "4          Mestrado           8.64         29.51            17.53   \n",
              "5         Doutorado          11.49         26.38            17.02   \n",
              "\n",
              "   Entre 60K e 80K  Entre 80K e 120K  Acima de 120K  Total por Escolaridade  \n",
              "0            17.92             18.21          10.12                   100.0  \n",
              "1            15.53             17.44           7.90                   100.0  \n",
              "2            19.82             17.98           8.99                   100.0  \n",
              "3            16.86             22.22          11.11                   100.0  \n",
              "4            16.67             20.00           7.65                   100.0  \n",
              "5            19.15             18.30           7.66                   100.0  "
            ],
            "text/html": [
              "\n",
              "  <div id=\"df-ce131c3b-3b57-445a-a420-d95bf45ed6e6\" class=\"colab-df-container\">\n",
              "    <div>\n",
              "<style scoped>\n",
              "    .dataframe tbody tr th:only-of-type {\n",
              "        vertical-align: middle;\n",
              "    }\n",
              "\n",
              "    .dataframe tbody tr th {\n",
              "        vertical-align: top;\n",
              "    }\n",
              "\n",
              "    .dataframe thead th {\n",
              "        text-align: right;\n",
              "    }\n",
              "</style>\n",
              "<table border=\"1\" class=\"dataframe\">\n",
              "  <thead>\n",
              "    <tr style=\"text-align: right;\">\n",
              "      <th></th>\n",
              "      <th>Escolaridade</th>\n",
              "      <th>Não Informado</th>\n",
              "      <th>Menos de 40K</th>\n",
              "      <th>Entre 40K e 60K</th>\n",
              "      <th>Entre 60K e 80K</th>\n",
              "      <th>Entre 80K e 120K</th>\n",
              "      <th>Acima de 120K</th>\n",
              "      <th>Total por Escolaridade</th>\n",
              "    </tr>\n",
              "  </thead>\n",
              "  <tbody>\n",
              "    <tr>\n",
              "      <th>0</th>\n",
              "      <td>Não Informado</td>\n",
              "      <td>9.83</td>\n",
              "      <td>25.43</td>\n",
              "      <td>18.50</td>\n",
              "      <td>17.92</td>\n",
              "      <td>18.21</td>\n",
              "      <td>10.12</td>\n",
              "      <td>100.0</td>\n",
              "    </tr>\n",
              "    <tr>\n",
              "      <th>1</th>\n",
              "      <td>Sem Escolaridade</td>\n",
              "      <td>9.81</td>\n",
              "      <td>29.97</td>\n",
              "      <td>19.35</td>\n",
              "      <td>15.53</td>\n",
              "      <td>17.44</td>\n",
              "      <td>7.90</td>\n",
              "      <td>100.0</td>\n",
              "    </tr>\n",
              "    <tr>\n",
              "      <th>2</th>\n",
              "      <td>Ensino Médio</td>\n",
              "      <td>9.17</td>\n",
              "      <td>24.40</td>\n",
              "      <td>19.63</td>\n",
              "      <td>19.82</td>\n",
              "      <td>17.98</td>\n",
              "      <td>8.99</td>\n",
              "      <td>100.0</td>\n",
              "    </tr>\n",
              "    <tr>\n",
              "      <th>3</th>\n",
              "      <td>Graduação</td>\n",
              "      <td>6.90</td>\n",
              "      <td>26.44</td>\n",
              "      <td>16.48</td>\n",
              "      <td>16.86</td>\n",
              "      <td>22.22</td>\n",
              "      <td>11.11</td>\n",
              "      <td>100.0</td>\n",
              "    </tr>\n",
              "    <tr>\n",
              "      <th>4</th>\n",
              "      <td>Mestrado</td>\n",
              "      <td>8.64</td>\n",
              "      <td>29.51</td>\n",
              "      <td>17.53</td>\n",
              "      <td>16.67</td>\n",
              "      <td>20.00</td>\n",
              "      <td>7.65</td>\n",
              "      <td>100.0</td>\n",
              "    </tr>\n",
              "    <tr>\n",
              "      <th>5</th>\n",
              "      <td>Doutorado</td>\n",
              "      <td>11.49</td>\n",
              "      <td>26.38</td>\n",
              "      <td>17.02</td>\n",
              "      <td>19.15</td>\n",
              "      <td>18.30</td>\n",
              "      <td>7.66</td>\n",
              "      <td>100.0</td>\n",
              "    </tr>\n",
              "  </tbody>\n",
              "</table>\n",
              "</div>\n",
              "    <div class=\"colab-df-buttons\">\n",
              "\n",
              "  <div class=\"colab-df-container\">\n",
              "    <button class=\"colab-df-convert\" onclick=\"convertToInteractive('df-ce131c3b-3b57-445a-a420-d95bf45ed6e6')\"\n",
              "            title=\"Convert this dataframe to an interactive table.\"\n",
              "            style=\"display:none;\">\n",
              "\n",
              "  <svg xmlns=\"http://www.w3.org/2000/svg\" height=\"24px\" viewBox=\"0 -960 960 960\">\n",
              "    <path d=\"M120-120v-720h720v720H120Zm60-500h600v-160H180v160Zm220 220h160v-160H400v160Zm0 220h160v-160H400v160ZM180-400h160v-160H180v160Zm440 0h160v-160H620v160ZM180-180h160v-160H180v160Zm440 0h160v-160H620v160Z\"/>\n",
              "  </svg>\n",
              "    </button>\n",
              "\n",
              "  <style>\n",
              "    .colab-df-container {\n",
              "      display:flex;\n",
              "      gap: 12px;\n",
              "    }\n",
              "\n",
              "    .colab-df-convert {\n",
              "      background-color: #E8F0FE;\n",
              "      border: none;\n",
              "      border-radius: 50%;\n",
              "      cursor: pointer;\n",
              "      display: none;\n",
              "      fill: #1967D2;\n",
              "      height: 32px;\n",
              "      padding: 0 0 0 0;\n",
              "      width: 32px;\n",
              "    }\n",
              "\n",
              "    .colab-df-convert:hover {\n",
              "      background-color: #E2EBFA;\n",
              "      box-shadow: 0px 1px 2px rgba(60, 64, 67, 0.3), 0px 1px 3px 1px rgba(60, 64, 67, 0.15);\n",
              "      fill: #174EA6;\n",
              "    }\n",
              "\n",
              "    .colab-df-buttons div {\n",
              "      margin-bottom: 4px;\n",
              "    }\n",
              "\n",
              "    [theme=dark] .colab-df-convert {\n",
              "      background-color: #3B4455;\n",
              "      fill: #D2E3FC;\n",
              "    }\n",
              "\n",
              "    [theme=dark] .colab-df-convert:hover {\n",
              "      background-color: #434B5C;\n",
              "      box-shadow: 0px 1px 3px 1px rgba(0, 0, 0, 0.15);\n",
              "      filter: drop-shadow(0px 1px 2px rgba(0, 0, 0, 0.3));\n",
              "      fill: #FFFFFF;\n",
              "    }\n",
              "  </style>\n",
              "\n",
              "    <script>\n",
              "      const buttonEl =\n",
              "        document.querySelector('#df-ce131c3b-3b57-445a-a420-d95bf45ed6e6 button.colab-df-convert');\n",
              "      buttonEl.style.display =\n",
              "        google.colab.kernel.accessAllowed ? 'block' : 'none';\n",
              "\n",
              "      async function convertToInteractive(key) {\n",
              "        const element = document.querySelector('#df-ce131c3b-3b57-445a-a420-d95bf45ed6e6');\n",
              "        const dataTable =\n",
              "          await google.colab.kernel.invokeFunction('convertToInteractive',\n",
              "                                                    [key], {});\n",
              "        if (!dataTable) return;\n",
              "\n",
              "        const docLinkHtml = 'Like what you see? Visit the ' +\n",
              "          '<a target=\"_blank\" href=https://colab.research.google.com/notebooks/data_table.ipynb>data table notebook</a>'\n",
              "          + ' to learn more about interactive tables.';\n",
              "        element.innerHTML = '';\n",
              "        dataTable['output_type'] = 'display_data';\n",
              "        await google.colab.output.renderOutput(dataTable, element);\n",
              "        const docLink = document.createElement('div');\n",
              "        docLink.innerHTML = docLinkHtml;\n",
              "        element.appendChild(docLink);\n",
              "      }\n",
              "    </script>\n",
              "  </div>\n",
              "\n",
              "\n",
              "<div id=\"df-9f2a9f14-063e-4258-945a-6b4ab803d231\">\n",
              "  <button class=\"colab-df-quickchart\" onclick=\"quickchart('df-9f2a9f14-063e-4258-945a-6b4ab803d231')\"\n",
              "            title=\"Suggest charts\"\n",
              "            style=\"display:none;\">\n",
              "\n",
              "<svg xmlns=\"http://www.w3.org/2000/svg\" height=\"24px\"viewBox=\"0 0 24 24\"\n",
              "     width=\"24px\">\n",
              "    <g>\n",
              "        <path d=\"M19 3H5c-1.1 0-2 .9-2 2v14c0 1.1.9 2 2 2h14c1.1 0 2-.9 2-2V5c0-1.1-.9-2-2-2zM9 17H7v-7h2v7zm4 0h-2V7h2v10zm4 0h-2v-4h2v4z\"/>\n",
              "    </g>\n",
              "</svg>\n",
              "  </button>\n",
              "\n",
              "<style>\n",
              "  .colab-df-quickchart {\n",
              "      --bg-color: #E8F0FE;\n",
              "      --fill-color: #1967D2;\n",
              "      --hover-bg-color: #E2EBFA;\n",
              "      --hover-fill-color: #174EA6;\n",
              "      --disabled-fill-color: #AAA;\n",
              "      --disabled-bg-color: #DDD;\n",
              "  }\n",
              "\n",
              "  [theme=dark] .colab-df-quickchart {\n",
              "      --bg-color: #3B4455;\n",
              "      --fill-color: #D2E3FC;\n",
              "      --hover-bg-color: #434B5C;\n",
              "      --hover-fill-color: #FFFFFF;\n",
              "      --disabled-bg-color: #3B4455;\n",
              "      --disabled-fill-color: #666;\n",
              "  }\n",
              "\n",
              "  .colab-df-quickchart {\n",
              "    background-color: var(--bg-color);\n",
              "    border: none;\n",
              "    border-radius: 50%;\n",
              "    cursor: pointer;\n",
              "    display: none;\n",
              "    fill: var(--fill-color);\n",
              "    height: 32px;\n",
              "    padding: 0;\n",
              "    width: 32px;\n",
              "  }\n",
              "\n",
              "  .colab-df-quickchart:hover {\n",
              "    background-color: var(--hover-bg-color);\n",
              "    box-shadow: 0 1px 2px rgba(60, 64, 67, 0.3), 0 1px 3px 1px rgba(60, 64, 67, 0.15);\n",
              "    fill: var(--button-hover-fill-color);\n",
              "  }\n",
              "\n",
              "  .colab-df-quickchart-complete:disabled,\n",
              "  .colab-df-quickchart-complete:disabled:hover {\n",
              "    background-color: var(--disabled-bg-color);\n",
              "    fill: var(--disabled-fill-color);\n",
              "    box-shadow: none;\n",
              "  }\n",
              "\n",
              "  .colab-df-spinner {\n",
              "    border: 2px solid var(--fill-color);\n",
              "    border-color: transparent;\n",
              "    border-bottom-color: var(--fill-color);\n",
              "    animation:\n",
              "      spin 1s steps(1) infinite;\n",
              "  }\n",
              "\n",
              "  @keyframes spin {\n",
              "    0% {\n",
              "      border-color: transparent;\n",
              "      border-bottom-color: var(--fill-color);\n",
              "      border-left-color: var(--fill-color);\n",
              "    }\n",
              "    20% {\n",
              "      border-color: transparent;\n",
              "      border-left-color: var(--fill-color);\n",
              "      border-top-color: var(--fill-color);\n",
              "    }\n",
              "    30% {\n",
              "      border-color: transparent;\n",
              "      border-left-color: var(--fill-color);\n",
              "      border-top-color: var(--fill-color);\n",
              "      border-right-color: var(--fill-color);\n",
              "    }\n",
              "    40% {\n",
              "      border-color: transparent;\n",
              "      border-right-color: var(--fill-color);\n",
              "      border-top-color: var(--fill-color);\n",
              "    }\n",
              "    60% {\n",
              "      border-color: transparent;\n",
              "      border-right-color: var(--fill-color);\n",
              "    }\n",
              "    80% {\n",
              "      border-color: transparent;\n",
              "      border-right-color: var(--fill-color);\n",
              "      border-bottom-color: var(--fill-color);\n",
              "    }\n",
              "    90% {\n",
              "      border-color: transparent;\n",
              "      border-bottom-color: var(--fill-color);\n",
              "    }\n",
              "  }\n",
              "</style>\n",
              "\n",
              "  <script>\n",
              "    async function quickchart(key) {\n",
              "      const quickchartButtonEl =\n",
              "        document.querySelector('#' + key + ' button');\n",
              "      quickchartButtonEl.disabled = true;  // To prevent multiple clicks.\n",
              "      quickchartButtonEl.classList.add('colab-df-spinner');\n",
              "      try {\n",
              "        const charts = await google.colab.kernel.invokeFunction(\n",
              "            'suggestCharts', [key], {});\n",
              "      } catch (error) {\n",
              "        console.error('Error during call to suggestCharts:', error);\n",
              "      }\n",
              "      quickchartButtonEl.classList.remove('colab-df-spinner');\n",
              "      quickchartButtonEl.classList.add('colab-df-quickchart-complete');\n",
              "    }\n",
              "    (() => {\n",
              "      let quickchartButtonEl =\n",
              "        document.querySelector('#df-9f2a9f14-063e-4258-945a-6b4ab803d231 button');\n",
              "      quickchartButtonEl.style.display =\n",
              "        google.colab.kernel.accessAllowed ? 'block' : 'none';\n",
              "    })();\n",
              "  </script>\n",
              "</div>\n",
              "\n",
              "  <div id=\"id_4701d2e1-a9fd-4bf2-a3d2-96545699f7e8\">\n",
              "    <style>\n",
              "      .colab-df-generate {\n",
              "        background-color: #E8F0FE;\n",
              "        border: none;\n",
              "        border-radius: 50%;\n",
              "        cursor: pointer;\n",
              "        display: none;\n",
              "        fill: #1967D2;\n",
              "        height: 32px;\n",
              "        padding: 0 0 0 0;\n",
              "        width: 32px;\n",
              "      }\n",
              "\n",
              "      .colab-df-generate:hover {\n",
              "        background-color: #E2EBFA;\n",
              "        box-shadow: 0px 1px 2px rgba(60, 64, 67, 0.3), 0px 1px 3px 1px rgba(60, 64, 67, 0.15);\n",
              "        fill: #174EA6;\n",
              "      }\n",
              "\n",
              "      [theme=dark] .colab-df-generate {\n",
              "        background-color: #3B4455;\n",
              "        fill: #D2E3FC;\n",
              "      }\n",
              "\n",
              "      [theme=dark] .colab-df-generate:hover {\n",
              "        background-color: #434B5C;\n",
              "        box-shadow: 0px 1px 3px 1px rgba(0, 0, 0, 0.15);\n",
              "        filter: drop-shadow(0px 1px 2px rgba(0, 0, 0, 0.3));\n",
              "        fill: #FFFFFF;\n",
              "      }\n",
              "    </style>\n",
              "    <button class=\"colab-df-generate\" onclick=\"generateWithVariable('df')\"\n",
              "            title=\"Generate code using this dataframe.\"\n",
              "            style=\"display:none;\">\n",
              "\n",
              "  <svg xmlns=\"http://www.w3.org/2000/svg\" height=\"24px\"viewBox=\"0 0 24 24\"\n",
              "       width=\"24px\">\n",
              "    <path d=\"M7,19H8.4L18.45,9,17,7.55,7,17.6ZM5,21V16.75L18.45,3.32a2,2,0,0,1,2.83,0l1.4,1.43a1.91,1.91,0,0,1,.58,1.4,1.91,1.91,0,0,1-.58,1.4L9.25,21ZM18.45,9,17,7.55Zm-12,3A5.31,5.31,0,0,0,4.9,8.1,5.31,5.31,0,0,0,1,6.5,5.31,5.31,0,0,0,4.9,4.9,5.31,5.31,0,0,0,6.5,1,5.31,5.31,0,0,0,8.1,4.9,5.31,5.31,0,0,0,12,6.5,5.46,5.46,0,0,0,6.5,12Z\"/>\n",
              "  </svg>\n",
              "    </button>\n",
              "    <script>\n",
              "      (() => {\n",
              "      const buttonEl =\n",
              "        document.querySelector('#id_4701d2e1-a9fd-4bf2-a3d2-96545699f7e8 button.colab-df-generate');\n",
              "      buttonEl.style.display =\n",
              "        google.colab.kernel.accessAllowed ? 'block' : 'none';\n",
              "\n",
              "      buttonEl.onclick = () => {\n",
              "        google.colab.notebook.generateWithVariable('df');\n",
              "      }\n",
              "      })();\n",
              "    </script>\n",
              "  </div>\n",
              "\n",
              "    </div>\n",
              "  </div>\n"
            ],
            "application/vnd.google.colaboratory.intrinsic+json": {
              "type": "dataframe",
              "variable_name": "df",
              "summary": "{\n  \"name\": \"df\",\n  \"rows\": 6,\n  \"fields\": [\n    {\n      \"column\": \"Escolaridade\",\n      \"properties\": {\n        \"dtype\": \"string\",\n        \"num_unique_values\": 6,\n        \"samples\": [\n          \"N\\u00e3o Informado\",\n          \"Sem Escolaridade\",\n          \"Doutorado\"\n        ],\n        \"semantic_type\": \"\",\n        \"description\": \"\"\n      }\n    },\n    {\n      \"column\": \"N\\u00e3o Informado\",\n      \"properties\": {\n        \"dtype\": \"number\",\n        \"std\": 1.5198245512777673,\n        \"min\": 6.9,\n        \"max\": 11.49,\n        \"num_unique_values\": 6,\n        \"samples\": [\n          9.83,\n          9.81,\n          11.49\n        ],\n        \"semantic_type\": \"\",\n        \"description\": \"\"\n      }\n    },\n    {\n      \"column\": \"Menos de 40K\",\n      \"properties\": {\n        \"dtype\": \"number\",\n        \"std\": 2.2379045258157615,\n        \"min\": 24.4,\n        \"max\": 29.97,\n        \"num_unique_values\": 6,\n        \"samples\": [\n          25.43,\n          29.97,\n          26.38\n        ],\n        \"semantic_type\": \"\",\n        \"description\": \"\"\n      }\n    },\n    {\n      \"column\": \"Entre 40K e 60K\",\n      \"properties\": {\n        \"dtype\": \"number\",\n        \"std\": 1.2788862341897342,\n        \"min\": 16.48,\n        \"max\": 19.63,\n        \"num_unique_values\": 6,\n        \"samples\": [\n          18.5,\n          19.35,\n          17.02\n        ],\n        \"semantic_type\": \"\",\n        \"description\": \"\"\n      }\n    },\n    {\n      \"column\": \"Entre 60K e 80K\",\n      \"properties\": {\n        \"dtype\": \"number\",\n        \"std\": 1.6192765874509105,\n        \"min\": 15.53,\n        \"max\": 19.82,\n        \"num_unique_values\": 6,\n        \"samples\": [\n          17.92,\n          15.53,\n          19.15\n        ],\n        \"semantic_type\": \"\",\n        \"description\": \"\"\n      }\n    },\n    {\n      \"column\": \"Entre 80K e 120K\",\n      \"properties\": {\n        \"dtype\": \"number\",\n        \"std\": 1.7862110737536023,\n        \"min\": 17.44,\n        \"max\": 22.22,\n        \"num_unique_values\": 6,\n        \"samples\": [\n          18.21,\n          17.44,\n          18.3\n        ],\n        \"semantic_type\": \"\",\n        \"description\": \"\"\n      }\n    },\n    {\n      \"column\": \"Acima de 120K\",\n      \"properties\": {\n        \"dtype\": \"number\",\n        \"std\": 1.4477948749736609,\n        \"min\": 7.65,\n        \"max\": 11.11,\n        \"num_unique_values\": 6,\n        \"samples\": [\n          10.12,\n          7.9,\n          7.66\n        ],\n        \"semantic_type\": \"\",\n        \"description\": \"\"\n      }\n    },\n    {\n      \"column\": \"Total por Escolaridade\",\n      \"properties\": {\n        \"dtype\": \"number\",\n        \"std\": 0.0,\n        \"min\": 100.0,\n        \"max\": 100.0,\n        \"num_unique_values\": 1,\n        \"samples\": [\n          100.0\n        ],\n        \"semantic_type\": \"\",\n        \"description\": \"\"\n      }\n    }\n  ]\n}"
            }
          },
          "metadata": {},
          "execution_count": 93
        }
      ]
    },
    {
      "cell_type": "code",
      "source": [
        "# criando listas para categorias e cores do gráfico\n",
        "categories = ['Não Informado',\n",
        "              'Menos de 40K',\n",
        "              'Entre 40K e 60K',\n",
        "              'Entre 60K e 80K',\n",
        "              'Entre 80K e 120K',\n",
        "              'Acima de 120K',\n",
        "              'Total por Escolaridade']\n",
        "colors = ['#6495ED', '#7B68EE', '#9370DB', '#A52A2A', '#F08080', '#CD5C5C']\n",
        "\n",
        "fig, ax = plt.subplots(figsize=(10, 7))\n",
        "bottom_values = [0] * len(df)\n",
        "for category, color in zip(categories, colors):\n",
        "    bars = ax.barh(\n",
        "        df['Escolaridade'],\n",
        "        df[category],\n",
        "        left=bottom_values,\n",
        "        label=category,\n",
        "        color=color)\n",
        "    for bar, value in zip(bars, df[category]):\n",
        "        ax.annotate(\n",
        "            f'{round(value,1)}',\n",
        "            xy=(bar.get_x()+bar.get_width()/2, bar.get_y()+bar.get_height()/2),\n",
        "            xytext=(3, 0),  # Deslocamento do texto\n",
        "            textcoords=\"offset points\",\n",
        "            ha='center', va='center', color='white', fontsize=10)\n",
        "    bottom_values = [i + j for i, j in zip(bottom_values, df[category])]\n",
        "\n",
        "# configurando as legendas\n",
        "plt.xticks([0, 50, 100], ['0%', '50%', '100%'])\n",
        "ax.set_title('Faixa salarial por escolaridade (%)', fontsize=15)\n",
        "ax.legend(loc='upper center',\n",
        "          bbox_to_anchor=(0.5, -0.10),\n",
        "          ncol=5,\n",
        "          fontsize='small',\n",
        "          fancybox=False)\n",
        "ax.grid(False)\n",
        "\n",
        "plt.tight_layout()\n",
        "plt.show()"
      ],
      "metadata": {
        "id": "YN3mHmDMWXo5",
        "colab": {
          "base_uri": "https://localhost:8080/",
          "height": 700
        },
        "outputId": "2b07ba42-dfab-4bcf-b212-e03139d2135a"
      },
      "execution_count": null,
      "outputs": [
        {
          "output_type": "display_data",
          "data": {
            "text/plain": [
              "<Figure size 1000x700 with 1 Axes>"
            ],
            "image/png": "[encoded data removed]"
          },
          "metadata": {}
        }
      ]
    },
    {
      "cell_type": "markdown",
      "source": [
        "Primeiramente, gostaria de destacar minha decisão de deixar os valores como 'na' tanto para a escolaridade quanto para a faixa salarial. Isso se deve ao fato de não ter conhecimento sobre como ocorre a coleta dos dados. Clientes que optam por não informar sua escolaridade ou salário podem ter motivos pessoais para isso, o que pode fornecer insights sobre suas decisões. Além disso, pode ser que durante a coleta de dados tenha ocorrido uma falha que permitiu ao cliente não fornecer essas informações, seja por falha no sistema de cadastro ou por erro humano. Em ambos os casos, considerei interessante manter esses dados para possibilitar a geração de insights relevantes.\n",
        "\n",
        "Continuando com a análise do gráfico, observamos que a relação entre salário e escolaridade parece seguir uma distribuição padrão, mais influenciada pela faixa salarial do que pela escolaridade em si. Em outras palavras, independentemente da escolaridade, a composição percentual dos clientes parece seguir uma referência: metade dos clientes ganha até \\$60K anuais e a outra metade ganha acima desse valor. No entanto, mesmo com certo grau de homogeneização nos salários, clientes com Graduação tendem a ter rendimentos ligeiramente superiores. Nota-se que aqueles sem escolaridade que ganham entre \\$40K e \\$60K anuais representam 30%, enquanto os clientes com 'mestrado' e 'doutorado' que ganham mais de \\$120K anuais representam apenas 7,7% cada."
      ],
      "metadata": {
        "id": "mx0HGSxZdhES"
      }
    },
    {
      "cell_type": "markdown",
      "source": [
        "## Perfil do uso do cartão"
      ],
      "metadata": {
        "id": "5AiBs3ddaCNq"
      }
    },
    {
      "cell_type": "markdown",
      "source": [
        "Com nossa base de dados, podemos explorar diferentes perfis de uso do cartão, especialmente ao caracterizar o comportamento de acordo com a faixa salarial. Essa análise se concentra em relacionar o ticket médio (valor médio gasto em cada compra) com o limite do cartão. Optei por essa abordagem devido às diferentes formas de utilização do cartão associadas às rendas variadas. Avaliar como o valor médio das compras se relaciona com o limite disponível permite uma análise mais precisa do potencial de compra e do uso eficaz do crédito.\n"
      ],
      "metadata": {
        "id": "ZEgQMpb1ZOZo"
      }
    },
    {
      "cell_type": "code",
      "source": [
        "# calculando o ticket medio e o df\n",
        "select_query = '''\n",
        "SELECT salario_anual,\n",
        "       round(avg(limite_credito),2) as limite_media,\n",
        "       SUM(valor_transacoes_12m) / SUM(qtd_transacoes_12m) AS ticket_medio\n",
        "FROM credito\n",
        "WHERE salario_anual <> 'na'\n",
        "GROUP BY salario_anual;\n",
        "'''\n",
        "execute_query(select_query)\n",
        "df = pd.read_sql_query(select_query, banco)"
      ],
      "metadata": {
        "id": "NeJuNXYgLBEZ",
        "colab": {
          "base_uri": "https://localhost:8080/"
        },
        "outputId": "bdb63a83-e892-4ce6-d294-9c575728bc3a"
      },
      "execution_count": null,
      "outputs": [
        {
          "output_type": "stream",
          "name": "stdout",
          "text": [
            "| salario_anual   |   limite_media |   ticket_medio |\n",
            "|:----------------|---------------:|---------------:|\n",
            "| $120K +         |       17801.5  |        42.7049 |\n",
            "| $40K - $60K     |        5348.36 |        43.7014 |\n",
            "| $60K - $80K     |        9096.03 |        44.2517 |\n",
            "| $80K - $120K    |       14886.6  |        43.3966 |\n",
            "| menos que $40K  |        4099.48 |        43.4951 |\n"
          ]
        }
      ]
    },
    {
      "cell_type": "code",
      "source": [
        "df.head(10)"
      ],
      "metadata": {
        "id": "YS34-tAChyFq",
        "colab": {
          "base_uri": "https://localhost:8080/",
          "height": 206
        },
        "outputId": "066c7286-69a5-43bb-d737-e7c15436071d"
      },
      "execution_count": null,
      "outputs": [
        {
          "output_type": "execute_result",
          "data": {
            "text/plain": [
              "    salario_anual  limite_media  ticket_medio\n",
              "0         $120K +      17801.49     42.704950\n",
              "1     $40K - $60K       5348.36     43.701356\n",
              "2     $60K - $80K       9096.03     44.251685\n",
              "3    $80K - $120K      14886.56     43.396592\n",
              "4  menos que $40K       4099.48     43.495099"
            ],
            "text/html": [
              "\n",
              "  <div id=\"df-ec623156-bd0b-44ef-8c1e-eb2e75aa1bb0\" class=\"colab-df-container\">\n",
              "    <div>\n",
              "<style scoped>\n",
              "    .dataframe tbody tr th:only-of-type {\n",
              "        vertical-align: middle;\n",
              "    }\n",
              "\n",
              "    .dataframe tbody tr th {\n",
              "        vertical-align: top;\n",
              "    }\n",
              "\n",
              "    .dataframe thead th {\n",
              "        text-align: right;\n",
              "    }\n",
              "</style>\n",
              "<table border=\"1\" class=\"dataframe\">\n",
              "  <thead>\n",
              "    <tr style=\"text-align: right;\">\n",
              "      <th></th>\n",
              "      <th>salario_anual</th>\n",
              "      <th>limite_media</th>\n",
              "      <th>ticket_medio</th>\n",
              "    </tr>\n",
              "  </thead>\n",
              "  <tbody>\n",
              "    <tr>\n",
              "      <th>0</th>\n",
              "      <td>$120K +</td>\n",
              "      <td>17801.49</td>\n",
              "      <td>42.704950</td>\n",
              "    </tr>\n",
              "    <tr>\n",
              "      <th>1</th>\n",
              "      <td>$40K - $60K</td>\n",
              "      <td>5348.36</td>\n",
              "      <td>43.701356</td>\n",
              "    </tr>\n",
              "    <tr>\n",
              "      <th>2</th>\n",
              "      <td>$60K - $80K</td>\n",
              "      <td>9096.03</td>\n",
              "      <td>44.251685</td>\n",
              "    </tr>\n",
              "    <tr>\n",
              "      <th>3</th>\n",
              "      <td>$80K - $120K</td>\n",
              "      <td>14886.56</td>\n",
              "      <td>43.396592</td>\n",
              "    </tr>\n",
              "    <tr>\n",
              "      <th>4</th>\n",
              "      <td>menos que $40K</td>\n",
              "      <td>4099.48</td>\n",
              "      <td>43.495099</td>\n",
              "    </tr>\n",
              "  </tbody>\n",
              "</table>\n",
              "</div>\n",
              "    <div class=\"colab-df-buttons\">\n",
              "\n",
              "  <div class=\"colab-df-container\">\n",
              "    <button class=\"colab-df-convert\" onclick=\"convertToInteractive('df-ec623156-bd0b-44ef-8c1e-eb2e75aa1bb0')\"\n",
              "            title=\"Convert this dataframe to an interactive table.\"\n",
              "            style=\"display:none;\">\n",
              "\n",
              "  <svg xmlns=\"http://www.w3.org/2000/svg\" height=\"24px\" viewBox=\"0 -960 960 960\">\n",
              "    <path d=\"M120-120v-720h720v720H120Zm60-500h600v-160H180v160Zm220 220h160v-160H400v160Zm0 220h160v-160H400v160ZM180-400h160v-160H180v160Zm440 0h160v-160H620v160ZM180-180h160v-160H180v160Zm440 0h160v-160H620v160Z\"/>\n",
              "  </svg>\n",
              "    </button>\n",
              "\n",
              "  <style>\n",
              "    .colab-df-container {\n",
              "      display:flex;\n",
              "      gap: 12px;\n",
              "    }\n",
              "\n",
              "    .colab-df-convert {\n",
              "      background-color: #E8F0FE;\n",
              "      border: none;\n",
              "      border-radius: 50%;\n",
              "      cursor: pointer;\n",
              "      display: none;\n",
              "      fill: #1967D2;\n",
              "      height: 32px;\n",
              "      padding: 0 0 0 0;\n",
              "      width: 32px;\n",
              "    }\n",
              "\n",
              "    .colab-df-convert:hover {\n",
              "      background-color: #E2EBFA;\n",
              "      box-shadow: 0px 1px 2px rgba(60, 64, 67, 0.3), 0px 1px 3px 1px rgba(60, 64, 67, 0.15);\n",
              "      fill: #174EA6;\n",
              "    }\n",
              "\n",
              "    .colab-df-buttons div {\n",
              "      margin-bottom: 4px;\n",
              "    }\n",
              "\n",
              "    [theme=dark] .colab-df-convert {\n",
              "      background-color: #3B4455;\n",
              "      fill: #D2E3FC;\n",
              "    }\n",
              "\n",
              "    [theme=dark] .colab-df-convert:hover {\n",
              "      background-color: #434B5C;\n",
              "      box-shadow: 0px 1px 3px 1px rgba(0, 0, 0, 0.15);\n",
              "      filter: drop-shadow(0px 1px 2px rgba(0, 0, 0, 0.3));\n",
              "      fill: #FFFFFF;\n",
              "    }\n",
              "  </style>\n",
              "\n",
              "    <script>\n",
              "      const buttonEl =\n",
              "        document.querySelector('#df-ec623156-bd0b-44ef-8c1e-eb2e75aa1bb0 button.colab-df-convert');\n",
              "      buttonEl.style.display =\n",
              "        google.colab.kernel.accessAllowed ? 'block' : 'none';\n",
              "\n",
              "      async function convertToInteractive(key) {\n",
              "        const element = document.querySelector('#df-ec623156-bd0b-44ef-8c1e-eb2e75aa1bb0');\n",
              "        const dataTable =\n",
              "          await google.colab.kernel.invokeFunction('convertToInteractive',\n",
              "                                                    [key], {});\n",
              "        if (!dataTable) return;\n",
              "\n",
              "        const docLinkHtml = 'Like what you see? Visit the ' +\n",
              "          '<a target=\"_blank\" href=https://colab.research.google.com/notebooks/data_table.ipynb>data table notebook</a>'\n",
              "          + ' to learn more about interactive tables.';\n",
              "        element.innerHTML = '';\n",
              "        dataTable['output_type'] = 'display_data';\n",
              "        await google.colab.output.renderOutput(dataTable, element);\n",
              "        const docLink = document.createElement('div');\n",
              "        docLink.innerHTML = docLinkHtml;\n",
              "        element.appendChild(docLink);\n",
              "      }\n",
              "    </script>\n",
              "  </div>\n",
              "\n",
              "\n",
              "<div id=\"df-fb68c3ea-3e5b-43a9-aad3-8bf1828756f2\">\n",
              "  <button class=\"colab-df-quickchart\" onclick=\"quickchart('df-fb68c3ea-3e5b-43a9-aad3-8bf1828756f2')\"\n",
              "            title=\"Suggest charts\"\n",
              "            style=\"display:none;\">\n",
              "\n",
              "<svg xmlns=\"http://www.w3.org/2000/svg\" height=\"24px\"viewBox=\"0 0 24 24\"\n",
              "     width=\"24px\">\n",
              "    <g>\n",
              "        <path d=\"M19 3H5c-1.1 0-2 .9-2 2v14c0 1.1.9 2 2 2h14c1.1 0 2-.9 2-2V5c0-1.1-.9-2-2-2zM9 17H7v-7h2v7zm4 0h-2V7h2v10zm4 0h-2v-4h2v4z\"/>\n",
              "    </g>\n",
              "</svg>\n",
              "  </button>\n",
              "\n",
              "<style>\n",
              "  .colab-df-quickchart {\n",
              "      --bg-color: #E8F0FE;\n",
              "      --fill-color: #1967D2;\n",
              "      --hover-bg-color: #E2EBFA;\n",
              "      --hover-fill-color: #174EA6;\n",
              "      --disabled-fill-color: #AAA;\n",
              "      --disabled-bg-color: #DDD;\n",
              "  }\n",
              "\n",
              "  [theme=dark] .colab-df-quickchart {\n",
              "      --bg-color: #3B4455;\n",
              "      --fill-color: #D2E3FC;\n",
              "      --hover-bg-color: #434B5C;\n",
              "      --hover-fill-color: #FFFFFF;\n",
              "      --disabled-bg-color: #3B4455;\n",
              "      --disabled-fill-color: #666;\n",
              "  }\n",
              "\n",
              "  .colab-df-quickchart {\n",
              "    background-color: var(--bg-color);\n",
              "    border: none;\n",
              "    border-radius: 50%;\n",
              "    cursor: pointer;\n",
              "    display: none;\n",
              "    fill: var(--fill-color);\n",
              "    height: 32px;\n",
              "    padding: 0;\n",
              "    width: 32px;\n",
              "  }\n",
              "\n",
              "  .colab-df-quickchart:hover {\n",
              "    background-color: var(--hover-bg-color);\n",
              "    box-shadow: 0 1px 2px rgba(60, 64, 67, 0.3), 0 1px 3px 1px rgba(60, 64, 67, 0.15);\n",
              "    fill: var(--button-hover-fill-color);\n",
              "  }\n",
              "\n",
              "  .colab-df-quickchart-complete:disabled,\n",
              "  .colab-df-quickchart-complete:disabled:hover {\n",
              "    background-color: var(--disabled-bg-color);\n",
              "    fill: var(--disabled-fill-color);\n",
              "    box-shadow: none;\n",
              "  }\n",
              "\n",
              "  .colab-df-spinner {\n",
              "    border: 2px solid var(--fill-color);\n",
              "    border-color: transparent;\n",
              "    border-bottom-color: var(--fill-color);\n",
              "    animation:\n",
              "      spin 1s steps(1) infinite;\n",
              "  }\n",
              "\n",
              "  @keyframes spin {\n",
              "    0% {\n",
              "      border-color: transparent;\n",
              "      border-bottom-color: var(--fill-color);\n",
              "      border-left-color: var(--fill-color);\n",
              "    }\n",
              "    20% {\n",
              "      border-color: transparent;\n",
              "      border-left-color: var(--fill-color);\n",
              "      border-top-color: var(--fill-color);\n",
              "    }\n",
              "    30% {\n",
              "      border-color: transparent;\n",
              "      border-left-color: var(--fill-color);\n",
              "      border-top-color: var(--fill-color);\n",
              "      border-right-color: var(--fill-color);\n",
              "    }\n",
              "    40% {\n",
              "      border-color: transparent;\n",
              "      border-right-color: var(--fill-color);\n",
              "      border-top-color: var(--fill-color);\n",
              "    }\n",
              "    60% {\n",
              "      border-color: transparent;\n",
              "      border-right-color: var(--fill-color);\n",
              "    }\n",
              "    80% {\n",
              "      border-color: transparent;\n",
              "      border-right-color: var(--fill-color);\n",
              "      border-bottom-color: var(--fill-color);\n",
              "    }\n",
              "    90% {\n",
              "      border-color: transparent;\n",
              "      border-bottom-color: var(--fill-color);\n",
              "    }\n",
              "  }\n",
              "</style>\n",
              "\n",
              "  <script>\n",
              "    async function quickchart(key) {\n",
              "      const quickchartButtonEl =\n",
              "        document.querySelector('#' + key + ' button');\n",
              "      quickchartButtonEl.disabled = true;  // To prevent multiple clicks.\n",
              "      quickchartButtonEl.classList.add('colab-df-spinner');\n",
              "      try {\n",
              "        const charts = await google.colab.kernel.invokeFunction(\n",
              "            'suggestCharts', [key], {});\n",
              "      } catch (error) {\n",
              "        console.error('Error during call to suggestCharts:', error);\n",
              "      }\n",
              "      quickchartButtonEl.classList.remove('colab-df-spinner');\n",
              "      quickchartButtonEl.classList.add('colab-df-quickchart-complete');\n",
              "    }\n",
              "    (() => {\n",
              "      let quickchartButtonEl =\n",
              "        document.querySelector('#df-fb68c3ea-3e5b-43a9-aad3-8bf1828756f2 button');\n",
              "      quickchartButtonEl.style.display =\n",
              "        google.colab.kernel.accessAllowed ? 'block' : 'none';\n",
              "    })();\n",
              "  </script>\n",
              "</div>\n",
              "\n",
              "    </div>\n",
              "  </div>\n"
            ],
            "application/vnd.google.colaboratory.intrinsic+json": {
              "type": "dataframe",
              "variable_name": "df",
              "summary": "{\n  \"name\": \"df\",\n  \"rows\": 5,\n  \"fields\": [\n    {\n      \"column\": \"salario_anual\",\n      \"properties\": {\n        \"dtype\": \"string\",\n        \"num_unique_values\": 5,\n        \"samples\": [\n          \"$40K - $60K\",\n          \"menos que $40K\",\n          \"$60K - $80K\"\n        ],\n        \"semantic_type\": \"\",\n        \"description\": \"\"\n      }\n    },\n    {\n      \"column\": \"limite_media\",\n      \"properties\": {\n        \"dtype\": \"number\",\n        \"std\": 5952.084554954677,\n        \"min\": 4099.48,\n        \"max\": 17801.49,\n        \"num_unique_values\": 5,\n        \"samples\": [\n          5348.36,\n          4099.48,\n          9096.03\n        ],\n        \"semantic_type\": \"\",\n        \"description\": \"\"\n      }\n    },\n    {\n      \"column\": \"ticket_medio\",\n      \"properties\": {\n        \"dtype\": \"number\",\n        \"std\": 0.5585480745255075,\n        \"min\": 42.704949689089894,\n        \"max\": 44.251685459940674,\n        \"num_unique_values\": 5,\n        \"samples\": [\n          43.70135613927915,\n          43.49509909729853,\n          44.251685459940674\n        ],\n        \"semantic_type\": \"\",\n        \"description\": \"\"\n      }\n    }\n  ]\n}"
            }
          },
          "metadata": {},
          "execution_count": 96
        }
      ]
    },
    {
      "cell_type": "code",
      "source": [
        "# criando listas para categorias e cores do gráfico\n",
        "categories = ['menos que $40K', '$40K - $60K', '$60K - $80K', '$80K - $120K', '$120K +']\n",
        "colors = ['#6495ED', '#7B68EE', '#9370DB', '#A52A2A', '#CD5C5C']\n",
        "cores = dict(zip(categories, colors))\n",
        "\n",
        "plt.figure(figsize=(10, 6))\n",
        "\n",
        "for salario in cores:\n",
        "    subset = df[df['salario_anual'] == salario]\n",
        "    plt.scatter(subset['limite_media'],\n",
        "                subset['ticket_medio'],\n",
        "                s=200, c=cores[salario],\n",
        "                label=salario,\n",
        "                alpha=0.7)\n",
        "\n",
        "# configurando rótulos e título do gráfico\n",
        "plt.xlabel('Média de Limite de Crédito')\n",
        "plt.ylabel('Ticket Médio das Transações')\n",
        "plt.title('Relação entre Ticket Médio e Limite de Crédito por Faixa de Salário Anual')\n",
        "plt.legend(title='Salário Anual', loc='upper right')\n",
        "\n",
        "plt.grid(True)\n",
        "plt.tight_layout()\n",
        "plt.show()"
      ],
      "metadata": {
        "id": "0x_sMFmKKfDX",
        "colab": {
          "base_uri": "https://localhost:8080/",
          "height": 600
        },
        "outputId": "68c8e01c-7f9d-49d6-c7f1-eace0b2c711c"
      },
      "execution_count": null,
      "outputs": [
        {
          "output_type": "display_data",
          "data": {
            "text/plain": [
              "<Figure size 1000x600 with 1 Axes>"
            ],
            "image/png": "[encoded data removed]"
          },
          "metadata": {}
        }
      ]
    },
    {
      "cell_type": "markdown",
      "source": [
        "Como podemos observar neste gráfico, a relação entre o ticket médio e o limite de crédito segue dois padrões distintos: o primeiro é uma relação positiva, onde quanto maior o limite, maior é o ticket médio. Isso é evidente nas faixas salariais de \\$40K até \\$80K anuais. O segundo padrão é negativo, onde o ticket médio tende a diminuir com o aumento do limite, especialmente nas faixas salariais acima de \\$80K anuais.\n",
        "\n",
        "Diante desses padrões, podemos definir dois tipos de clientes com diferentes comportamentos de gastos: aqueles que utilizam o crédito de forma mais intensa e aumentam seus gastos conforme o limite disponível, e aqueles que, apesar do maior limite, mantêm ou diminuem seus gastos médios. Essa segmentação permite uma abordagem mais precisa na oferta de serviços e produtos financeiros, alinhados às necessidades e comportamentos de cada grupo."
      ],
      "metadata": {
        "id": "i3t8wziUqHWc"
      }
    },
    {
      "cell_type": "markdown",
      "source": [
        "# Conclusão"
      ],
      "metadata": {
        "id": "jaoigy6OD6N3"
      }
    },
    {
      "cell_type": "markdown",
      "source": [
        "Este projeto demonstrou não apenas a aplicação eficaz da linguagem SQL na análise de dados de clientes de cartão de crédito, mas também a flexibilidade em adaptar estratégias conforme as necessidades surgem. Inicialmente exploramos ferramentas em nuvem como AWS S3 e Athena, mas optamos por um ambiente local para facilitar a interatividade e documentação do processo. A análise revelou padrões significativos na relação entre faixa salarial, escolaridade, gastos e limite de crédito dos clientes, permitindo uma segmentação precisa. Esses insights são fundamentais para orientar decisões estratégicas em serviços financeiros e áreas correlatas, reforçando a importância da análise de dados no contexto empresarial."
      ],
      "metadata": {
        "id": "sBDVWrWRuw8z"
      }
    }
  ]
}